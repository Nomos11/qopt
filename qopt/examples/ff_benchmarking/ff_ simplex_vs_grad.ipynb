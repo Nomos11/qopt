{
 "cells": [
  {
   "cell_type": "code",
   "execution_count": null,
   "metadata": {
    "collapsed": true
   },
   "outputs": [],
   "source": [
    "\n",
    "import datetime\n",
    "import os.path\n",
    "import numpy as np\n",
    "from qopt.examples.ff_benchmarking.singlet_triplet_setup import \\\n",
    "    create_simulators, create_optimizer, EPS_MIN, create_bounded_nm\n",
    "from qopt.analyser import Analyser\n",
    "from qopt.data_container import DataContainer\n",
    "\n",
    "\n",
    "def time_stamp():\n",
    "    time = str(datetime.datetime.now())[:-7]\n",
    "    new_time = time[:10] + '-' + time[11:13] + '-' + time[14:16] \\\n",
    "               + '-' + time[17:19]\n",
    "    return new_time\n",
    "\n",
    "\n",
    "n_runs = 50\n",
    "\n",
    "# n_time_steps = 10\n",
    "n_time_steps = 20\n",
    "\n",
    "np.random.seed(0)\n",
    "initial_conditions = EPS_MIN * np.random.rand(n_time_steps, n_runs)\n",
    "\n",
    "path = r'Z:\\SimulationData\\ff_derivative\\ff_simplex_vs_grad'\n"
   ]
  },
  {
   "cell_type": "code",
   "execution_count": null,
   "outputs": [],
   "source": [
    "simulator_ff, simulator_l, simulator_syst, sim_ff_only = create_simulators(\n",
    "    n_time_steps=n_time_steps)\n",
    "\n",
    "ls_opt = create_optimizer(simulator_ff)\n",
    "nm_opt = create_bounded_nm(simulator_ff, n_time_steps=n_time_steps)\n"
   ],
   "metadata": {
    "collapsed": false,
    "pycharm": {
     "name": "#%%\n"
    }
   }
  },
  {
   "cell_type": "code",
   "execution_count": 3,
   "outputs": [],
   "source": [
    "ls_data = DataContainer(storage_path=path)\n",
    "for i in range(n_runs):\n",
    "    ls_result =  ls_opt.run_optimization(\n",
    "        initial_control_amplitudes=np.expand_dims(\n",
    "            initial_conditions[:, i], axis=1\n",
    "        )\n",
    "    )\n",
    "\n",
    "    ls_data.append_optim_result(ls_result)\n",
    "\n",
    "ls_analyser = Analyser(data=ls_data)\n",
    "ls_file = r'least-squares' + time_stamp()\n",
    "ls_data.to_pickle(filename=os.path.join(path, ls_file))"
   ],
   "metadata": {
    "collapsed": false,
    "pycharm": {
     "name": "#%%\n"
    }
   }
  },
  {
   "cell_type": "code",
   "execution_count": 4,
   "outputs": [
    {
     "ename": "KeyboardInterrupt",
     "evalue": "",
     "output_type": "error",
     "traceback": [
      "\u001B[1;31m---------------------------------------------------------------------------\u001B[0m",
      "\u001B[1;31mKeyboardInterrupt\u001B[0m                         Traceback (most recent call last)",
      "\u001B[1;32m<ipython-input-4-6d25b04effdf>\u001B[0m in \u001B[0;36m<module>\u001B[1;34m\u001B[0m\n\u001B[0;32m      3\u001B[0m     nm_result =  nm_opt.run_optimization(\n\u001B[0;32m      4\u001B[0m         initial_control_amplitudes=np.expand_dims(\n\u001B[1;32m----> 5\u001B[1;33m             \u001B[0minitial_conditions\u001B[0m\u001B[1;33m[\u001B[0m\u001B[1;33m:\u001B[0m\u001B[1;33m,\u001B[0m \u001B[0mi\u001B[0m\u001B[1;33m]\u001B[0m\u001B[1;33m,\u001B[0m \u001B[0maxis\u001B[0m\u001B[1;33m=\u001B[0m\u001B[1;36m1\u001B[0m\u001B[1;33m\u001B[0m\u001B[1;33m\u001B[0m\u001B[0m\n\u001B[0m\u001B[0;32m      6\u001B[0m         ))\n\u001B[0;32m      7\u001B[0m \u001B[1;33m\u001B[0m\u001B[0m\n",
      "\u001B[1;32m~\\Documents\\qopt\\qopt\\examples\\ff_benchmarking\\singlet_triplet_setup.py\u001B[0m in \u001B[0;36mrun_optimization\u001B[1;34m(self, initial_control_amplitudes)\u001B[0m\n\u001B[0;32m     70\u001B[0m                 \u001B[0mUB\u001B[0m\u001B[1;33m=\u001B[0m\u001B[0mnp\u001B[0m\u001B[1;33m.\u001B[0m\u001B[0masarray\u001B[0m\u001B[1;33m(\u001B[0m\u001B[0mself\u001B[0m\u001B[1;33m.\u001B[0m\u001B[0muppter_bounds\u001B[0m\u001B[1;33m)\u001B[0m\u001B[1;33m,\u001B[0m\u001B[1;33m\u001B[0m\u001B[1;33m\u001B[0m\u001B[0m\n\u001B[0;32m     71\u001B[0m                 \u001B[0mmaxiter\u001B[0m\u001B[1;33m=\u001B[0m\u001B[0mself\u001B[0m\u001B[1;33m.\u001B[0m\u001B[0mtermination_conditions\u001B[0m\u001B[1;33m[\u001B[0m\u001B[1;34m\"max_iterations\"\u001B[0m\u001B[1;33m]\u001B[0m\u001B[1;33m,\u001B[0m\u001B[1;33m\u001B[0m\u001B[1;33m\u001B[0m\u001B[0m\n\u001B[1;32m---> 72\u001B[1;33m                 \u001B[0mmaxfun\u001B[0m\u001B[1;33m=\u001B[0m\u001B[0mself\u001B[0m\u001B[1;33m.\u001B[0m\u001B[0mtermination_conditions\u001B[0m\u001B[1;33m[\u001B[0m\u001B[1;34m\"max_cost_func_calls\"\u001B[0m\u001B[1;33m]\u001B[0m\u001B[1;33m\u001B[0m\u001B[1;33m\u001B[0m\u001B[0m\n\u001B[0m\u001B[0;32m     73\u001B[0m             )\n\u001B[0;32m     74\u001B[0m \u001B[1;33m\u001B[0m\u001B[0m\n",
      "\u001B[1;32m~\\AppData\\Local\\Continuum\\miniconda3\\envs\\qopt_ff_isabel\\lib\\site-packages\\constrnmpy-0.2-py3.7.egg\\constrNMPy\\constrNMPy.py\u001B[0m in \u001B[0;36mconstrNM\u001B[1;34m(func, x0, LB, UB, args, xtol, ftol, maxiter, maxfun, full_output, disp, retall, callback)\u001B[0m\n\u001B[0;32m     75\u001B[0m     \u001B[1;31m# Call fmin\u001B[0m\u001B[1;33m\u001B[0m\u001B[1;33m\u001B[0m\u001B[1;33m\u001B[0m\u001B[0m\n\u001B[0;32m     76\u001B[0m     res=sciopt.fmin(constrObjFunc,x0,args=opts,ftol=ftol,xtol=xtol,maxiter=maxiter,disp=disp,\n\u001B[1;32m---> 77\u001B[1;33m          full_output=full_output,callback=callback,maxfun=maxfun,retall=retall)\n\u001B[0m\u001B[0;32m     78\u001B[0m \u001B[1;33m\u001B[0m\u001B[0m\n\u001B[0;32m     79\u001B[0m     \u001B[1;31m# Convert res to list\u001B[0m\u001B[1;33m\u001B[0m\u001B[1;33m\u001B[0m\u001B[1;33m\u001B[0m\u001B[0m\n",
      "\u001B[1;32m~\\AppData\\Local\\Continuum\\miniconda3\\envs\\qopt_ff_isabel\\lib\\site-packages\\scipy\\optimize\\optimize.py\u001B[0m in \u001B[0;36mfmin\u001B[1;34m(func, x0, args, xtol, ftol, maxiter, maxfun, full_output, disp, retall, callback, initial_simplex)\u001B[0m\n\u001B[0;32m    541\u001B[0m             'initial_simplex': initial_simplex}\n\u001B[0;32m    542\u001B[0m \u001B[1;33m\u001B[0m\u001B[0m\n\u001B[1;32m--> 543\u001B[1;33m     \u001B[0mres\u001B[0m \u001B[1;33m=\u001B[0m \u001B[0m_minimize_neldermead\u001B[0m\u001B[1;33m(\u001B[0m\u001B[0mfunc\u001B[0m\u001B[1;33m,\u001B[0m \u001B[0mx0\u001B[0m\u001B[1;33m,\u001B[0m \u001B[0margs\u001B[0m\u001B[1;33m,\u001B[0m \u001B[0mcallback\u001B[0m\u001B[1;33m=\u001B[0m\u001B[0mcallback\u001B[0m\u001B[1;33m,\u001B[0m \u001B[1;33m**\u001B[0m\u001B[0mopts\u001B[0m\u001B[1;33m)\u001B[0m\u001B[1;33m\u001B[0m\u001B[1;33m\u001B[0m\u001B[0m\n\u001B[0m\u001B[0;32m    544\u001B[0m     \u001B[1;32mif\u001B[0m \u001B[0mfull_output\u001B[0m\u001B[1;33m:\u001B[0m\u001B[1;33m\u001B[0m\u001B[1;33m\u001B[0m\u001B[0m\n\u001B[0;32m    545\u001B[0m         \u001B[0mretlist\u001B[0m \u001B[1;33m=\u001B[0m \u001B[0mres\u001B[0m\u001B[1;33m[\u001B[0m\u001B[1;34m'x'\u001B[0m\u001B[1;33m]\u001B[0m\u001B[1;33m,\u001B[0m \u001B[0mres\u001B[0m\u001B[1;33m[\u001B[0m\u001B[1;34m'fun'\u001B[0m\u001B[1;33m]\u001B[0m\u001B[1;33m,\u001B[0m \u001B[0mres\u001B[0m\u001B[1;33m[\u001B[0m\u001B[1;34m'nit'\u001B[0m\u001B[1;33m]\u001B[0m\u001B[1;33m,\u001B[0m \u001B[0mres\u001B[0m\u001B[1;33m[\u001B[0m\u001B[1;34m'nfev'\u001B[0m\u001B[1;33m]\u001B[0m\u001B[1;33m,\u001B[0m \u001B[0mres\u001B[0m\u001B[1;33m[\u001B[0m\u001B[1;34m'status'\u001B[0m\u001B[1;33m]\u001B[0m\u001B[1;33m\u001B[0m\u001B[1;33m\u001B[0m\u001B[0m\n",
      "\u001B[1;32m~\\AppData\\Local\\Continuum\\miniconda3\\envs\\qopt_ff_isabel\\lib\\site-packages\\scipy\\optimize\\optimize.py\u001B[0m in \u001B[0;36m_minimize_neldermead\u001B[1;34m(func, x0, args, callback, maxiter, maxfev, disp, return_all, initial_simplex, xatol, fatol, adaptive, **unknown_options)\u001B[0m\n\u001B[0;32m    734\u001B[0m                     \u001B[1;31m# Perform an inside contraction\u001B[0m\u001B[1;33m\u001B[0m\u001B[1;33m\u001B[0m\u001B[1;33m\u001B[0m\u001B[0m\n\u001B[0;32m    735\u001B[0m                     \u001B[0mxcc\u001B[0m \u001B[1;33m=\u001B[0m \u001B[1;33m(\u001B[0m\u001B[1;36m1\u001B[0m \u001B[1;33m-\u001B[0m \u001B[0mpsi\u001B[0m\u001B[1;33m)\u001B[0m \u001B[1;33m*\u001B[0m \u001B[0mxbar\u001B[0m \u001B[1;33m+\u001B[0m \u001B[0mpsi\u001B[0m \u001B[1;33m*\u001B[0m \u001B[0msim\u001B[0m\u001B[1;33m[\u001B[0m\u001B[1;33m-\u001B[0m\u001B[1;36m1\u001B[0m\u001B[1;33m]\u001B[0m\u001B[1;33m\u001B[0m\u001B[1;33m\u001B[0m\u001B[0m\n\u001B[1;32m--> 736\u001B[1;33m                     \u001B[0mfxcc\u001B[0m \u001B[1;33m=\u001B[0m \u001B[0mfunc\u001B[0m\u001B[1;33m(\u001B[0m\u001B[0mxcc\u001B[0m\u001B[1;33m)\u001B[0m\u001B[1;33m\u001B[0m\u001B[1;33m\u001B[0m\u001B[0m\n\u001B[0m\u001B[0;32m    737\u001B[0m \u001B[1;33m\u001B[0m\u001B[0m\n\u001B[0;32m    738\u001B[0m                     \u001B[1;32mif\u001B[0m \u001B[0mfxcc\u001B[0m \u001B[1;33m<\u001B[0m \u001B[0mfsim\u001B[0m\u001B[1;33m[\u001B[0m\u001B[1;33m-\u001B[0m\u001B[1;36m1\u001B[0m\u001B[1;33m]\u001B[0m\u001B[1;33m:\u001B[0m\u001B[1;33m\u001B[0m\u001B[1;33m\u001B[0m\u001B[0m\n",
      "\u001B[1;32m~\\AppData\\Local\\Continuum\\miniconda3\\envs\\qopt_ff_isabel\\lib\\site-packages\\scipy\\optimize\\optimize.py\u001B[0m in \u001B[0;36mfunction_wrapper\u001B[1;34m(*wrapper_args)\u001B[0m\n\u001B[0;32m    425\u001B[0m     \u001B[1;32mdef\u001B[0m \u001B[0mfunction_wrapper\u001B[0m\u001B[1;33m(\u001B[0m\u001B[1;33m*\u001B[0m\u001B[0mwrapper_args\u001B[0m\u001B[1;33m)\u001B[0m\u001B[1;33m:\u001B[0m\u001B[1;33m\u001B[0m\u001B[1;33m\u001B[0m\u001B[0m\n\u001B[0;32m    426\u001B[0m         \u001B[0mncalls\u001B[0m\u001B[1;33m[\u001B[0m\u001B[1;36m0\u001B[0m\u001B[1;33m]\u001B[0m \u001B[1;33m+=\u001B[0m \u001B[1;36m1\u001B[0m\u001B[1;33m\u001B[0m\u001B[1;33m\u001B[0m\u001B[0m\n\u001B[1;32m--> 427\u001B[1;33m         \u001B[1;32mreturn\u001B[0m \u001B[0mfunction\u001B[0m\u001B[1;33m(\u001B[0m\u001B[1;33m*\u001B[0m\u001B[1;33m(\u001B[0m\u001B[0mwrapper_args\u001B[0m \u001B[1;33m+\u001B[0m \u001B[0margs\u001B[0m\u001B[1;33m)\u001B[0m\u001B[1;33m)\u001B[0m\u001B[1;33m\u001B[0m\u001B[1;33m\u001B[0m\u001B[0m\n\u001B[0m\u001B[0;32m    428\u001B[0m \u001B[1;33m\u001B[0m\u001B[0m\n\u001B[0;32m    429\u001B[0m     \u001B[1;32mreturn\u001B[0m \u001B[0mncalls\u001B[0m\u001B[1;33m,\u001B[0m \u001B[0mfunction_wrapper\u001B[0m\u001B[1;33m\u001B[0m\u001B[1;33m\u001B[0m\u001B[0m\n",
      "\u001B[1;32m~\\AppData\\Local\\Continuum\\miniconda3\\envs\\qopt_ff_isabel\\lib\\site-packages\\constrnmpy-0.2-py3.7.egg\\constrNMPy\\constrNMPy.py\u001B[0m in \u001B[0;36mconstrObjFunc\u001B[1;34m(x, func, LB, UB, args)\u001B[0m\n\u001B[0;32m    131\u001B[0m     \u001B[1;31m#raw_input()\u001B[0m\u001B[1;33m\u001B[0m\u001B[1;33m\u001B[0m\u001B[1;33m\u001B[0m\u001B[0m\n\u001B[0;32m    132\u001B[0m \u001B[1;33m\u001B[0m\u001B[0m\n\u001B[1;32m--> 133\u001B[1;33m     \u001B[1;32mreturn\u001B[0m \u001B[0mfunc\u001B[0m\u001B[1;33m(\u001B[0m\u001B[0mx\u001B[0m\u001B[1;33m,\u001B[0m\u001B[1;33m*\u001B[0m\u001B[0margs\u001B[0m\u001B[1;33m)\u001B[0m\u001B[1;33m\u001B[0m\u001B[1;33m\u001B[0m\u001B[0m\n\u001B[0m\u001B[0;32m    134\u001B[0m \u001B[1;33m\u001B[0m\u001B[0m\n\u001B[0;32m    135\u001B[0m \u001B[1;32mdef\u001B[0m \u001B[0mtransformX\u001B[0m\u001B[1;33m(\u001B[0m\u001B[0mx\u001B[0m\u001B[1;33m,\u001B[0m\u001B[0mLB\u001B[0m\u001B[1;33m,\u001B[0m\u001B[0mUB\u001B[0m\u001B[1;33m,\u001B[0m\u001B[0moffset\u001B[0m\u001B[1;33m=\u001B[0m\u001B[1;36m1E-20\u001B[0m\u001B[1;33m)\u001B[0m\u001B[1;33m:\u001B[0m\u001B[1;33m\u001B[0m\u001B[1;33m\u001B[0m\u001B[0m\n",
      "\u001B[1;32m~\\Documents\\qopt\\qopt\\optimize.py\u001B[0m in \u001B[0;36mcost_fktn_wrapper\u001B[1;34m(self, optimization_parameters)\u001B[0m\n\u001B[0;32m    413\u001B[0m     \u001B[1;32mdef\u001B[0m \u001B[0mcost_fktn_wrapper\u001B[0m\u001B[1;33m(\u001B[0m\u001B[0mself\u001B[0m\u001B[1;33m,\u001B[0m \u001B[0moptimization_parameters\u001B[0m\u001B[1;33m)\u001B[0m\u001B[1;33m:\u001B[0m\u001B[1;33m\u001B[0m\u001B[1;33m\u001B[0m\u001B[0m\n\u001B[0;32m    414\u001B[0m         \u001B[1;34m\"\"\" See base class. \"\"\"\u001B[0m\u001B[1;33m\u001B[0m\u001B[1;33m\u001B[0m\u001B[0m\n\u001B[1;32m--> 415\u001B[1;33m         \u001B[0mcosts\u001B[0m \u001B[1;33m=\u001B[0m \u001B[0msuper\u001B[0m\u001B[1;33m(\u001B[0m\u001B[1;33m)\u001B[0m\u001B[1;33m.\u001B[0m\u001B[0mcost_fktn_wrapper\u001B[0m\u001B[1;33m(\u001B[0m\u001B[0moptimization_parameters\u001B[0m\u001B[1;33m)\u001B[0m\u001B[1;33m\u001B[0m\u001B[1;33m\u001B[0m\u001B[0m\n\u001B[0m\u001B[0;32m    416\u001B[0m         \u001B[0mscalar_costs\u001B[0m \u001B[1;33m=\u001B[0m \u001B[0mnp\u001B[0m\u001B[1;33m.\u001B[0m\u001B[0msum\u001B[0m\u001B[1;33m(\u001B[0m\u001B[0mcosts\u001B[0m \u001B[1;33m**\u001B[0m \u001B[1;36m2\u001B[0m\u001B[1;33m)\u001B[0m\u001B[1;33m\u001B[0m\u001B[1;33m\u001B[0m\u001B[0m\n\u001B[0;32m    417\u001B[0m         \u001B[1;32mreturn\u001B[0m \u001B[0mscalar_costs\u001B[0m\u001B[1;33m\u001B[0m\u001B[1;33m\u001B[0m\u001B[0m\n",
      "\u001B[1;32m~\\Documents\\qopt\\qopt\\optimize.py\u001B[0m in \u001B[0;36mcost_fktn_wrapper\u001B[1;34m(self, optimization_parameters)\u001B[0m\n\u001B[0;32m    158\u001B[0m \u001B[1;33m\u001B[0m\u001B[0m\n\u001B[0;32m    159\u001B[0m         costs = self.system_simulator.wrapped_cost_functions(\n\u001B[1;32m--> 160\u001B[1;33m             optimization_parameters.reshape(self.pulse_shape[::-1]).T)\n\u001B[0m\u001B[0;32m    161\u001B[0m \u001B[1;33m\u001B[0m\u001B[0m\n\u001B[0;32m    162\u001B[0m         \u001B[1;32mif\u001B[0m \u001B[0mself\u001B[0m\u001B[1;33m.\u001B[0m\u001B[0msave_intermediary_steps\u001B[0m\u001B[1;33m:\u001B[0m\u001B[1;33m\u001B[0m\u001B[1;33m\u001B[0m\u001B[0m\n",
      "\u001B[1;32m~\\Documents\\qopt\\qopt\\simulator.py\u001B[0m in \u001B[0;36mwrapped_cost_functions\u001B[1;34m(self, pulse)\u001B[0m\n\u001B[0;32m    205\u001B[0m             \u001B[1;32mfor\u001B[0m \u001B[0mi\u001B[0m\u001B[1;33m,\u001B[0m \u001B[0mcost_fktn\u001B[0m \u001B[1;32min\u001B[0m \u001B[0menumerate\u001B[0m\u001B[1;33m(\u001B[0m\u001B[0mself\u001B[0m\u001B[1;33m.\u001B[0m\u001B[0mcost_fktns\u001B[0m\u001B[1;33m)\u001B[0m\u001B[1;33m:\u001B[0m\u001B[1;33m\u001B[0m\u001B[1;33m\u001B[0m\u001B[0m\n\u001B[0;32m    206\u001B[0m                 \u001B[0mt_start\u001B[0m \u001B[1;33m=\u001B[0m \u001B[0mtime\u001B[0m\u001B[1;33m.\u001B[0m\u001B[0mtime\u001B[0m\u001B[1;33m(\u001B[0m\u001B[1;33m)\u001B[0m\u001B[1;33m\u001B[0m\u001B[1;33m\u001B[0m\u001B[0m\n\u001B[1;32m--> 207\u001B[1;33m                 \u001B[0mcost\u001B[0m \u001B[1;33m=\u001B[0m \u001B[0mcost_fktn\u001B[0m\u001B[1;33m.\u001B[0m\u001B[0mcosts\u001B[0m\u001B[1;33m(\u001B[0m\u001B[1;33m)\u001B[0m\u001B[1;33m\u001B[0m\u001B[1;33m\u001B[0m\u001B[0m\n\u001B[0m\u001B[0;32m    208\u001B[0m                 \u001B[0mt_end\u001B[0m \u001B[1;33m=\u001B[0m \u001B[0mtime\u001B[0m\u001B[1;33m.\u001B[0m\u001B[0mtime\u001B[0m\u001B[1;33m(\u001B[0m\u001B[1;33m)\u001B[0m\u001B[1;33m\u001B[0m\u001B[1;33m\u001B[0m\u001B[0m\n\u001B[0;32m    209\u001B[0m                 \u001B[0mself\u001B[0m\u001B[1;33m.\u001B[0m\u001B[0mstats\u001B[0m\u001B[1;33m.\u001B[0m\u001B[0mcost_func_eval_times\u001B[0m\u001B[1;33m[\u001B[0m\u001B[1;33m-\u001B[0m\u001B[1;36m1\u001B[0m\u001B[1;33m]\u001B[0m\u001B[1;33m.\u001B[0m\u001B[0mappend\u001B[0m\u001B[1;33m(\u001B[0m\u001B[0mt_end\u001B[0m \u001B[1;33m-\u001B[0m \u001B[0mt_start\u001B[0m\u001B[1;33m)\u001B[0m\u001B[1;33m\u001B[0m\u001B[1;33m\u001B[0m\u001B[0m\n",
      "\u001B[1;32m~\\Documents\\qopt\\qopt\\cost_functions.py\u001B[0m in \u001B[0;36mcosts\u001B[1;34m(self)\u001B[0m\n\u001B[0;32m   1123\u001B[0m             \u001B[0mpulse\u001B[0m\u001B[1;33m=\u001B[0m\u001B[0mself\u001B[0m\u001B[1;33m.\u001B[0m\u001B[0msolver\u001B[0m\u001B[1;33m.\u001B[0m\u001B[0mpulse_sequence\u001B[0m\u001B[1;33m,\u001B[0m\u001B[1;33m\u001B[0m\u001B[1;33m\u001B[0m\u001B[0m\n\u001B[0;32m   1124\u001B[0m             \u001B[0mS\u001B[0m\u001B[1;33m=\u001B[0m\u001B[0mself\u001B[0m\u001B[1;33m.\u001B[0m\u001B[0mnoise_power_spec_density\u001B[0m\u001B[1;33m(\u001B[0m\u001B[0mself\u001B[0m\u001B[1;33m.\u001B[0m\u001B[0momega\u001B[0m\u001B[1;33m)\u001B[0m\u001B[1;33m,\u001B[0m\u001B[1;33m\u001B[0m\u001B[1;33m\u001B[0m\u001B[0m\n\u001B[1;32m-> 1125\u001B[1;33m             omega=self.omega)\n\u001B[0m\u001B[0;32m   1126\u001B[0m         \u001B[1;32mreturn\u001B[0m \u001B[0minfidelity\u001B[0m\u001B[1;33m\u001B[0m\u001B[1;33m\u001B[0m\u001B[0m\n\u001B[0;32m   1127\u001B[0m \u001B[1;33m\u001B[0m\u001B[0m\n",
      "\u001B[1;32mc:\\users\\teske\\documents\\isabel-filter_functions\\filter_functions\\numeric.py\u001B[0m in \u001B[0;36minfidelity\u001B[1;34m(pulse, S, omega, n_oper_identifiers, which, return_smallness, test_convergence)\u001B[0m\n\u001B[0;32m    925\u001B[0m             \u001B[0mF\u001B[0m \u001B[1;33m=\u001B[0m \u001B[0mnp\u001B[0m\u001B[1;33m.\u001B[0m\u001B[0meinsum\u001B[0m\u001B[1;33m(\u001B[0m\u001B[1;34m'ako,blo,kl->abo'\u001B[0m\u001B[1;33m,\u001B[0m \u001B[0mR\u001B[0m\u001B[1;33m.\u001B[0m\u001B[0mconj\u001B[0m\u001B[1;33m(\u001B[0m\u001B[1;33m)\u001B[0m\u001B[1;33m,\u001B[0m \u001B[0mR\u001B[0m\u001B[1;33m,\u001B[0m \u001B[0mTp\u001B[0m\u001B[1;33m)\u001B[0m\u001B[1;33m/\u001B[0m\u001B[0mpulse\u001B[0m\u001B[1;33m.\u001B[0m\u001B[0md\u001B[0m\u001B[1;33m\u001B[0m\u001B[1;33m\u001B[0m\u001B[0m\n\u001B[0;32m    926\u001B[0m         \u001B[1;32melse\u001B[0m\u001B[1;33m:\u001B[0m\u001B[1;33m\u001B[0m\u001B[1;33m\u001B[0m\u001B[0m\n\u001B[1;32m--> 927\u001B[1;33m             \u001B[0mF\u001B[0m \u001B[1;33m=\u001B[0m \u001B[0mpulse\u001B[0m\u001B[1;33m.\u001B[0m\u001B[0mget_filter_function\u001B[0m\u001B[1;33m(\u001B[0m\u001B[0momega\u001B[0m\u001B[1;33m)\u001B[0m\u001B[1;33m\u001B[0m\u001B[1;33m\u001B[0m\u001B[0m\n\u001B[0m\u001B[0;32m    928\u001B[0m     \u001B[1;32melif\u001B[0m \u001B[0mwhich\u001B[0m \u001B[1;33m==\u001B[0m \u001B[1;34m'correlations'\u001B[0m\u001B[1;33m:\u001B[0m\u001B[1;33m\u001B[0m\u001B[1;33m\u001B[0m\u001B[0m\n\u001B[0;32m    929\u001B[0m         \u001B[1;32mif\u001B[0m \u001B[1;32mnot\u001B[0m \u001B[0mpulse\u001B[0m\u001B[1;33m.\u001B[0m\u001B[0mbasis\u001B[0m\u001B[1;33m.\u001B[0m\u001B[0mistraceless\u001B[0m\u001B[1;33m:\u001B[0m\u001B[1;33m\u001B[0m\u001B[1;33m\u001B[0m\u001B[0m\n",
      "\u001B[1;32mc:\\users\\teske\\documents\\isabel-filter_functions\\filter_functions\\pulse_sequence.py\u001B[0m in \u001B[0;36mget_filter_function\u001B[1;34m(self, omega, show_progressbar)\u001B[0m\n\u001B[0;32m    538\u001B[0m         \u001B[1;31m# Cache filter function\u001B[0m\u001B[1;33m\u001B[0m\u001B[1;33m\u001B[0m\u001B[1;33m\u001B[0m\u001B[0m\n\u001B[0;32m    539\u001B[0m         self.cache_filter_function(\n\u001B[1;32m--> 540\u001B[1;33m             \u001B[0momega\u001B[0m\u001B[1;33m,\u001B[0m \u001B[0mR\u001B[0m\u001B[1;33m=\u001B[0m\u001B[0mself\u001B[0m\u001B[1;33m.\u001B[0m\u001B[0mget_control_matrix\u001B[0m\u001B[1;33m(\u001B[0m\u001B[0momega\u001B[0m\u001B[1;33m,\u001B[0m \u001B[0mshow_progressbar\u001B[0m\u001B[1;33m)\u001B[0m\u001B[1;33m\u001B[0m\u001B[1;33m\u001B[0m\u001B[0m\n\u001B[0m\u001B[0;32m    541\u001B[0m         )\n\u001B[0;32m    542\u001B[0m \u001B[1;33m\u001B[0m\u001B[0m\n",
      "\u001B[1;32mc:\\users\\teske\\documents\\isabel-filter_functions\\filter_functions\\pulse_sequence.py\u001B[0m in \u001B[0;36mget_control_matrix\u001B[1;34m(self, omega, show_progressbar)\u001B[0m\n\u001B[0;32m    457\u001B[0m         R = calculate_control_matrix_from_scratch(\n\u001B[0;32m    458\u001B[0m             \u001B[0mself\u001B[0m\u001B[1;33m.\u001B[0m\u001B[0mHD\u001B[0m\u001B[1;33m,\u001B[0m \u001B[0mself\u001B[0m\u001B[1;33m.\u001B[0m\u001B[0mHV\u001B[0m\u001B[1;33m,\u001B[0m \u001B[0mself\u001B[0m\u001B[1;33m.\u001B[0m\u001B[0mQ\u001B[0m\u001B[1;33m,\u001B[0m \u001B[0momega\u001B[0m\u001B[1;33m,\u001B[0m \u001B[0mself\u001B[0m\u001B[1;33m.\u001B[0m\u001B[0mbasis\u001B[0m\u001B[1;33m,\u001B[0m \u001B[0mself\u001B[0m\u001B[1;33m.\u001B[0m\u001B[0mn_opers\u001B[0m\u001B[1;33m,\u001B[0m\u001B[1;33m\u001B[0m\u001B[1;33m\u001B[0m\u001B[0m\n\u001B[1;32m--> 459\u001B[1;33m             \u001B[0mself\u001B[0m\u001B[1;33m.\u001B[0m\u001B[0mn_coeffs\u001B[0m\u001B[1;33m,\u001B[0m \u001B[0mself\u001B[0m\u001B[1;33m.\u001B[0m\u001B[0mdt\u001B[0m\u001B[1;33m,\u001B[0m \u001B[0mself\u001B[0m\u001B[1;33m.\u001B[0m\u001B[0mt\u001B[0m\u001B[1;33m,\u001B[0m \u001B[0mshow_progressbar\u001B[0m\u001B[1;33m=\u001B[0m\u001B[0mshow_progressbar\u001B[0m\u001B[1;33m\u001B[0m\u001B[1;33m\u001B[0m\u001B[0m\n\u001B[0m\u001B[0;32m    460\u001B[0m         )\n\u001B[0;32m    461\u001B[0m \u001B[1;33m\u001B[0m\u001B[0m\n",
      "\u001B[1;32mc:\\users\\teske\\documents\\isabel-filter_functions\\filter_functions\\numeric.py\u001B[0m in \u001B[0;36mcalculate_control_matrix_from_scratch\u001B[1;34m(HD, HV, Q, omega, basis, n_opers, n_coeffs, dt, t, show_progressbar)\u001B[0m\n\u001B[0;32m    231\u001B[0m         \u001B[0mQdagV\u001B[0m \u001B[1;33m=\u001B[0m \u001B[0mnp\u001B[0m\u001B[1;33m.\u001B[0m\u001B[0meinsum\u001B[0m\u001B[1;33m(\u001B[0m\u001B[1;34m'lba,lbc->lac'\u001B[0m\u001B[1;33m,\u001B[0m \u001B[0mQ\u001B[0m\u001B[1;33m[\u001B[0m\u001B[1;33m:\u001B[0m\u001B[1;33m-\u001B[0m\u001B[1;36m1\u001B[0m\u001B[1;33m]\u001B[0m\u001B[1;33m.\u001B[0m\u001B[0mconj\u001B[0m\u001B[1;33m(\u001B[0m\u001B[1;33m)\u001B[0m\u001B[1;33m,\u001B[0m \u001B[0mHV\u001B[0m\u001B[1;33m)\u001B[0m\u001B[1;33m\u001B[0m\u001B[1;33m\u001B[0m\u001B[0m\n\u001B[0;32m    232\u001B[0m         B = np.einsum('lba,jbc,lcd->jlad', HV.conj(), n_opers, HV,\n\u001B[1;32m--> 233\u001B[1;33m                       optimize=['einsum_path', (0, 1), (0, 1)])\n\u001B[0m\u001B[0;32m    234\u001B[0m     \u001B[1;32melse\u001B[0m\u001B[1;33m:\u001B[0m\u001B[1;33m\u001B[0m\u001B[1;33m\u001B[0m\u001B[0m\n\u001B[0;32m    235\u001B[0m         \u001B[0mQdagV\u001B[0m \u001B[1;33m=\u001B[0m \u001B[0mQ\u001B[0m\u001B[1;33m[\u001B[0m\u001B[1;33m:\u001B[0m\u001B[1;33m-\u001B[0m\u001B[1;36m1\u001B[0m\u001B[1;33m]\u001B[0m\u001B[1;33m.\u001B[0m\u001B[0mtranspose\u001B[0m\u001B[1;33m(\u001B[0m\u001B[1;36m0\u001B[0m\u001B[1;33m,\u001B[0m \u001B[1;36m2\u001B[0m\u001B[1;33m,\u001B[0m \u001B[1;36m1\u001B[0m\u001B[1;33m)\u001B[0m\u001B[1;33m.\u001B[0m\u001B[0mconj\u001B[0m\u001B[1;33m(\u001B[0m\u001B[1;33m)\u001B[0m \u001B[1;33m@\u001B[0m \u001B[0mHV\u001B[0m\u001B[1;33m\u001B[0m\u001B[1;33m\u001B[0m\u001B[0m\n",
      "\u001B[1;32m<__array_function__ internals>\u001B[0m in \u001B[0;36meinsum\u001B[1;34m(*args, **kwargs)\u001B[0m\n",
      "\u001B[1;32m~\\AppData\\Local\\Continuum\\miniconda3\\envs\\qopt_ff_isabel\\lib\\site-packages\\numpy\\core\\einsumfunc.py\u001B[0m in \u001B[0;36meinsum\u001B[1;34m(*operands, **kwargs)\u001B[0m\n\u001B[0;32m   1406\u001B[0m \u001B[1;33m\u001B[0m\u001B[0m\n\u001B[0;32m   1407\u001B[0m             \u001B[1;31m# Contract!\u001B[0m\u001B[1;33m\u001B[0m\u001B[1;33m\u001B[0m\u001B[1;33m\u001B[0m\u001B[0m\n\u001B[1;32m-> 1408\u001B[1;33m             \u001B[0mnew_view\u001B[0m \u001B[1;33m=\u001B[0m \u001B[0mtensordot\u001B[0m\u001B[1;33m(\u001B[0m\u001B[1;33m*\u001B[0m\u001B[0mtmp_operands\u001B[0m\u001B[1;33m,\u001B[0m \u001B[0maxes\u001B[0m\u001B[1;33m=\u001B[0m\u001B[1;33m(\u001B[0m\u001B[0mtuple\u001B[0m\u001B[1;33m(\u001B[0m\u001B[0mleft_pos\u001B[0m\u001B[1;33m)\u001B[0m\u001B[1;33m,\u001B[0m \u001B[0mtuple\u001B[0m\u001B[1;33m(\u001B[0m\u001B[0mright_pos\u001B[0m\u001B[1;33m)\u001B[0m\u001B[1;33m)\u001B[0m\u001B[1;33m)\u001B[0m\u001B[1;33m\u001B[0m\u001B[1;33m\u001B[0m\u001B[0m\n\u001B[0m\u001B[0;32m   1409\u001B[0m \u001B[1;33m\u001B[0m\u001B[0m\n\u001B[0;32m   1410\u001B[0m             \u001B[1;31m# Build a new view if needed\u001B[0m\u001B[1;33m\u001B[0m\u001B[1;33m\u001B[0m\u001B[1;33m\u001B[0m\u001B[0m\n",
      "\u001B[1;32m<__array_function__ internals>\u001B[0m in \u001B[0;36mtensordot\u001B[1;34m(*args, **kwargs)\u001B[0m\n",
      "\u001B[1;32m~\\AppData\\Local\\Continuum\\miniconda3\\envs\\qopt_ff_isabel\\lib\\site-packages\\numpy\\core\\numeric.py\u001B[0m in \u001B[0;36mtensordot\u001B[1;34m(a, b, axes)\u001B[0m\n\u001B[0;32m   1100\u001B[0m     \u001B[0mat\u001B[0m \u001B[1;33m=\u001B[0m \u001B[0ma\u001B[0m\u001B[1;33m.\u001B[0m\u001B[0mtranspose\u001B[0m\u001B[1;33m(\u001B[0m\u001B[0mnewaxes_a\u001B[0m\u001B[1;33m)\u001B[0m\u001B[1;33m.\u001B[0m\u001B[0mreshape\u001B[0m\u001B[1;33m(\u001B[0m\u001B[0mnewshape_a\u001B[0m\u001B[1;33m)\u001B[0m\u001B[1;33m\u001B[0m\u001B[1;33m\u001B[0m\u001B[0m\n\u001B[0;32m   1101\u001B[0m     \u001B[0mbt\u001B[0m \u001B[1;33m=\u001B[0m \u001B[0mb\u001B[0m\u001B[1;33m.\u001B[0m\u001B[0mtranspose\u001B[0m\u001B[1;33m(\u001B[0m\u001B[0mnewaxes_b\u001B[0m\u001B[1;33m)\u001B[0m\u001B[1;33m.\u001B[0m\u001B[0mreshape\u001B[0m\u001B[1;33m(\u001B[0m\u001B[0mnewshape_b\u001B[0m\u001B[1;33m)\u001B[0m\u001B[1;33m\u001B[0m\u001B[1;33m\u001B[0m\u001B[0m\n\u001B[1;32m-> 1102\u001B[1;33m     \u001B[0mres\u001B[0m \u001B[1;33m=\u001B[0m \u001B[0mdot\u001B[0m\u001B[1;33m(\u001B[0m\u001B[0mat\u001B[0m\u001B[1;33m,\u001B[0m \u001B[0mbt\u001B[0m\u001B[1;33m)\u001B[0m\u001B[1;33m\u001B[0m\u001B[1;33m\u001B[0m\u001B[0m\n\u001B[0m\u001B[0;32m   1103\u001B[0m     \u001B[1;32mreturn\u001B[0m \u001B[0mres\u001B[0m\u001B[1;33m.\u001B[0m\u001B[0mreshape\u001B[0m\u001B[1;33m(\u001B[0m\u001B[0molda\u001B[0m \u001B[1;33m+\u001B[0m \u001B[0moldb\u001B[0m\u001B[1;33m)\u001B[0m\u001B[1;33m\u001B[0m\u001B[1;33m\u001B[0m\u001B[0m\n\u001B[0;32m   1104\u001B[0m \u001B[1;33m\u001B[0m\u001B[0m\n",
      "\u001B[1;32m<__array_function__ internals>\u001B[0m in \u001B[0;36mdot\u001B[1;34m(*args, **kwargs)\u001B[0m\n",
      "\u001B[1;31mKeyboardInterrupt\u001B[0m: "
     ]
    }
   ],
   "source": [
    "nm_data = DataContainer(storage_path=path)\n",
    "for i in range(n_runs):\n",
    "    nm_result =  nm_opt.run_optimization(\n",
    "        initial_control_amplitudes=np.expand_dims(\n",
    "            initial_conditions[:, i], axis=1\n",
    "        ))\n",
    "\n",
    "    nm_data.append_optim_result(nm_result)\n",
    "\n",
    "nm_analyser = Analyser(data=nm_data)\n",
    "nm_file = r'nelder-mead' + time_stamp()\n",
    "nm_data.to_pickle(filename=os.path.join(path, nm_file))"
   ],
   "metadata": {
    "collapsed": false,
    "pycharm": {
     "name": "#%%\n"
    }
   }
  },
  {
   "cell_type": "markdown",
   "source": [
    "### Analysis"
   ],
   "metadata": {
    "collapsed": false
   }
  },
  {
   "cell_type": "code",
   "execution_count": null,
   "outputs": [],
   "source": [
    "file = r'least-squares2020-08-27-14-09-03'"
   ],
   "metadata": {
    "collapsed": false,
    "pycharm": {
     "name": "#%%\n"
    }
   }
  },
  {
   "cell_type": "code",
   "execution_count": null,
   "outputs": [],
   "source": [
    "loaded_data = DataContainer.from_pickle(filename=os.path.join(path, file))\n",
    "loaded_analyser = Analyser(loaded_data)\n",
    "fig, ax = loaded_analyser.plot_absolute_costs()\n",
    "fig.savefig(fname=os.path.join(path, file + '.png'))\n"
   ],
   "metadata": {
    "collapsed": false,
    "pycharm": {
     "name": "#%%\n"
    }
   }
  },
  {
   "cell_type": "code",
   "execution_count": null,
   "outputs": [],
   "source": [
    "file = r'nelder-mead2020-08-27-18-46-30'"
   ],
   "metadata": {
    "collapsed": false,
    "pycharm": {
     "name": "#%%\n"
    }
   }
  }
 ],
 "metadata": {
  "kernelspec": {
   "display_name": "Python 3",
   "language": "python",
   "name": "python3"
  },
  "language_info": {
   "codemirror_mode": {
    "name": "ipython",
    "version": 2
   },
   "file_extension": ".py",
   "mimetype": "text/x-python",
   "name": "python",
   "nbconvert_exporter": "python",
   "pygments_lexer": "ipython2",
   "version": "2.7.6"
  }
 },
 "nbformat": 4,
 "nbformat_minor": 0
}