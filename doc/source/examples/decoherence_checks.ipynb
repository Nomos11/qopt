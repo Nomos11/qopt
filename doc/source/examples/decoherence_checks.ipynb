{
 "cells": [
  {
   "cell_type": "markdown",
   "metadata": {
    "collapsed": true,
    "pycharm": {
     "name": "#%% md\n"
    }
   },
   "source": [
    "# Decoherence Channels\n",
    "\n",
    "Sanity checks to verify that everything is working\n",
    "\n",
    "consider single triplet qubit\n",
    "\n",
    "\\begin{equation}\n",
    "H = \\frac{J + \\delta J}{2}\\sigma_z + E_z \\sigma_x\n",
    "\\end{equation}\n",
    "\n",
    "where $\\delta J$ is white noise.\n",
    "\n",
    "## $T_1$ Decay\n",
    "\n",
    "We start by considering a pure depolarizing decay."
   ]
  },
  {
   "cell_type": "code",
   "execution_count": 4,
   "outputs": [],
   "source": [
    "from qopt import *\n",
    "import numpy as np\n",
    "import matplotlib.pyplot as plt\n",
    "import scipy.optimize\n",
    "\n",
    "\n",
    "def create_lindblad_solver(n_time_steps, noise_variance,\n",
    "                           total_time, bz_rotation):\n",
    "    delta_bz = bz_rotation / total_time\n",
    "    delta_t = total_time / n_time_steps\n",
    "\n",
    "    def prefactor_function(transferred_parameters, _):\n",
    "        return noise_variance * np.ones_like(transferred_parameters)\n",
    "\n",
    "    lindblad_solver = LindbladSolver(\n",
    "        h_drift=[delta_bz * .5 * DenseOperator.pauli_x()],\n",
    "        h_ctrl=[.5 * DenseOperator.pauli_z()],\n",
    "        tau=delta_t * np.ones(n_time_steps),\n",
    "        prefactor_function=prefactor_function,\n",
    "        lindblad_operators=[.5 * DenseOperator.pauli_z()]\n",
    "    )\n",
    "    return lindblad_solver\n",
    "\n",
    "def evaluate_infidelity_fid_lindblad(n_time_steps, noise_variance,\n",
    "                                     total_time, bz_rotation):\n",
    "    lindblad_solver = create_lindblad_solver(\n",
    "        n_time_steps, noise_variance, total_time, bz_rotation)\n",
    "\n",
    "    fid_ctrl_amps = np.expand_dims(np.zeros(n_time_steps), 1)\n",
    "    target = (.5 * DenseOperator.pauli_x()).exp(1j * bz_rotation)\n",
    "    lindblad_cost_fkt = OperationInfidelity(\n",
    "        solver=lindblad_solver,\n",
    "        super_operator_formalism=True,\n",
    "        target=target\n",
    "    )\n",
    "    lindblad_solver.set_optimization_parameters(fid_ctrl_amps)\n",
    "\n",
    "    return lindblad_cost_fkt.costs()\n",
    "\n",
    "def create_mc_solver(n_time_steps, noise_variance, total_time, bz_rotation,\n",
    "                     low_freq_ex):\n",
    "    delta_bz = bz_rotation / total_time\n",
    "    delta_t = total_time / n_time_steps\n",
    "\n",
    "\n",
    "    def noise_spectral_density(f):\n",
    "        return 2 * noise_variance * np.ones_like(f)  # factor of 2 for\n",
    "        # one-sided spectrum\n",
    "\n",
    "    noise_trace_generator = NTGColoredNoise(\n",
    "        n_samples_per_trace=n_time_steps,\n",
    "        dt=delta_t,\n",
    "        noise_spectral_density=noise_spectral_density,\n",
    "        n_traces=1000,\n",
    "        low_frequency_extension_ratio=low_freq_ex\n",
    "    )\n",
    "\n",
    "    monte_carlo_solver = SchroedingerSMonteCarlo(\n",
    "        h_drift=[delta_bz * .5 * DenseOperator.pauli_x()],\n",
    "        h_ctrl=[.5 * DenseOperator.pauli_z()],\n",
    "        tau=delta_t * np.ones(n_time_steps),\n",
    "        h_noise=[.5 * DenseOperator.pauli_z()],\n",
    "        noise_trace_generator=noise_trace_generator\n",
    "    )\n",
    "\n",
    "    return monte_carlo_solver\n",
    "\n",
    "\n",
    "def evaluate_fidelity_fid_mc(\n",
    "        n_time_steps, noise_variance, total_time, bz_rotation, low_freq_rel):\n",
    "    monte_carlo_solver = create_mc_solver(\n",
    "        n_time_steps, noise_variance, total_time, bz_rotation, low_freq_rel)\n",
    "    fid_ctrl_amps = np.expand_dims(np.zeros(n_time_steps), 1)\n",
    "    target = (.5 * DenseOperator.pauli_x()).exp(1j * bz_rotation)\n",
    "\n",
    "    mc_cost_fkt = OperationNoiseInfidelity(\n",
    "        solver=monte_carlo_solver,\n",
    "        target=target,\n",
    "        neglect_systematic_errors=False\n",
    "    )\n",
    "\n",
    "    monte_carlo_solver.set_optimization_parameters(fid_ctrl_amps)\n",
    "    return mc_cost_fkt.costs()\n",
    "\n",
    "def t2_decay(t, t2):\n",
    "    return np.exp(-1. * t / t2)"
   ],
   "metadata": {
    "collapsed": false,
    "pycharm": {
     "name": "#%%\n"
    }
   }
  },
  {
   "cell_type": "code",
   "source": [
    "n_values = 20\n",
    "total_time = 1\n",
    "n_time_step_values = np.logspace(\n",
    "    2, 4, n_values, dtype=int, endpoint=True, base=10)\n",
    "lindblad_fidelity_nt = evaluate_infidelity_fid_lindblad(n_time_steps=10,\n",
    "                                                        noise_variance=.01,\n",
    "                                                        total_time=total_time,\n",
    "                                                        bz_rotation=np.pi)\n",
    "mc_fidelities_nt = np.zeros(n_values)\n",
    "\n",
    "for i, n_time_step in enumerate(n_time_step_values):\n",
    "    mc_fidelity = evaluate_fidelity_fid_mc(\n",
    "        n_time_steps=n_time_step, noise_variance=.01, total_time=total_time,\n",
    "        bz_rotation=np.pi, low_freq_rel=10\n",
    "    )\n",
    "    mc_fidelities_nt[i] = mc_fidelity"
   ],
   "metadata": {
    "collapsed": false,
    "pycharm": {
     "name": "#%%\n"
    }
   },
   "execution_count": 3,
   "outputs": [
    {
     "ename": "KeyboardInterrupt",
     "evalue": "",
     "output_type": "error",
     "traceback": [
      "\u001B[1;31m---------------------------------------------------------------------------\u001B[0m",
      "\u001B[1;31mKeyboardInterrupt\u001B[0m                         Traceback (most recent call last)",
      "\u001B[1;32m<ipython-input-3-087a67018cd4>\u001B[0m in \u001B[0;36m<module>\u001B[1;34m\u001B[0m\n\u001B[0;32m     12\u001B[0m     mc_fidelity = evaluate_fidelity_fid_mc(\n\u001B[0;32m     13\u001B[0m         \u001B[0mn_time_steps\u001B[0m\u001B[1;33m=\u001B[0m\u001B[0mn_time_step\u001B[0m\u001B[1;33m,\u001B[0m \u001B[0mnoise_variance\u001B[0m\u001B[1;33m=\u001B[0m\u001B[1;36m.01\u001B[0m\u001B[1;33m,\u001B[0m \u001B[0mtotal_time\u001B[0m\u001B[1;33m=\u001B[0m\u001B[0mtotal_time\u001B[0m\u001B[1;33m,\u001B[0m\u001B[1;33m\u001B[0m\u001B[1;33m\u001B[0m\u001B[0m\n\u001B[1;32m---> 14\u001B[1;33m         \u001B[0mbz_rotation\u001B[0m\u001B[1;33m=\u001B[0m\u001B[0mnp\u001B[0m\u001B[1;33m.\u001B[0m\u001B[0mpi\u001B[0m\u001B[1;33m,\u001B[0m \u001B[0mlow_freq_rel\u001B[0m\u001B[1;33m=\u001B[0m\u001B[1;36m10\u001B[0m\u001B[1;33m\u001B[0m\u001B[1;33m\u001B[0m\u001B[0m\n\u001B[0m\u001B[0;32m     15\u001B[0m     )\n\u001B[0;32m     16\u001B[0m     \u001B[0mmc_fidelities_nt\u001B[0m\u001B[1;33m[\u001B[0m\u001B[0mi\u001B[0m\u001B[1;33m]\u001B[0m \u001B[1;33m=\u001B[0m \u001B[0mmc_fidelity\u001B[0m\u001B[1;33m\u001B[0m\u001B[1;33m\u001B[0m\u001B[0m\n",
      "\u001B[1;32m<ipython-input-1-85f8e1a859d8>\u001B[0m in \u001B[0;36mevaluate_fidelity_fid_mc\u001B[1;34m(n_time_steps, noise_variance, total_time, bz_rotation, low_freq_rel)\u001B[0m\n\u001B[0;32m     81\u001B[0m \u001B[1;33m\u001B[0m\u001B[0m\n\u001B[0;32m     82\u001B[0m     \u001B[0mmonte_carlo_solver\u001B[0m\u001B[1;33m.\u001B[0m\u001B[0mset_optimization_parameters\u001B[0m\u001B[1;33m(\u001B[0m\u001B[0mfid_ctrl_amps\u001B[0m\u001B[1;33m)\u001B[0m\u001B[1;33m\u001B[0m\u001B[1;33m\u001B[0m\u001B[0m\n\u001B[1;32m---> 83\u001B[1;33m     \u001B[1;32mreturn\u001B[0m \u001B[0mmc_cost_fkt\u001B[0m\u001B[1;33m.\u001B[0m\u001B[0mcosts\u001B[0m\u001B[1;33m(\u001B[0m\u001B[1;33m)\u001B[0m\u001B[1;33m\u001B[0m\u001B[1;33m\u001B[0m\u001B[0m\n\u001B[0m\u001B[0;32m     84\u001B[0m \u001B[1;33m\u001B[0m\u001B[0m\n\u001B[0;32m     85\u001B[0m \u001B[1;32mdef\u001B[0m \u001B[0mt2_decay\u001B[0m\u001B[1;33m(\u001B[0m\u001B[0mt\u001B[0m\u001B[1;33m,\u001B[0m \u001B[0mt2\u001B[0m\u001B[1;33m)\u001B[0m\u001B[1;33m:\u001B[0m\u001B[1;33m\u001B[0m\u001B[1;33m\u001B[0m\u001B[0m\n",
      "\u001B[1;32m~\\Documents\\qopt\\qopt\\cost_functions.py\u001B[0m in \u001B[0;36mcosts\u001B[1;34m(self)\u001B[0m\n\u001B[0;32m   1107\u001B[0m         \u001B[1;32mif\u001B[0m \u001B[0mself\u001B[0m\u001B[1;33m.\u001B[0m\u001B[0mfidelity_measure\u001B[0m \u001B[1;33m==\u001B[0m \u001B[1;34m'entanglement'\u001B[0m\u001B[1;33m:\u001B[0m\u001B[1;33m\u001B[0m\u001B[1;33m\u001B[0m\u001B[0m\n\u001B[0;32m   1108\u001B[0m             \u001B[1;32mfor\u001B[0m \u001B[0mi\u001B[0m \u001B[1;32min\u001B[0m \u001B[0mrange\u001B[0m\u001B[1;33m(\u001B[0m\u001B[0mn_traces\u001B[0m\u001B[1;33m)\u001B[0m\u001B[1;33m:\u001B[0m\u001B[1;33m\u001B[0m\u001B[1;33m\u001B[0m\u001B[0m\n\u001B[1;32m-> 1109\u001B[1;33m                 \u001B[0mfinal\u001B[0m \u001B[1;33m=\u001B[0m \u001B[0mself\u001B[0m\u001B[1;33m.\u001B[0m\u001B[0msolver\u001B[0m\u001B[1;33m.\u001B[0m\u001B[0mforward_propagators_noise\u001B[0m\u001B[1;33m[\u001B[0m\u001B[0mi\u001B[0m\u001B[1;33m]\u001B[0m\u001B[1;33m[\u001B[0m\u001B[1;33m-\u001B[0m\u001B[1;36m1\u001B[0m\u001B[1;33m]\u001B[0m\u001B[1;33m\u001B[0m\u001B[1;33m\u001B[0m\u001B[0m\n\u001B[0m\u001B[0;32m   1110\u001B[0m \u001B[1;33m\u001B[0m\u001B[0m\n\u001B[0;32m   1111\u001B[0m                 infidelities[i] = 1 - entanglement_fidelity(\n",
      "\u001B[1;32m~\\Documents\\qopt\\qopt\\solver_algorithms.py\u001B[0m in \u001B[0;36mforward_propagators_noise\u001B[1;34m(self)\u001B[0m\n\u001B[0;32m   1151\u001B[0m         \"\"\"\n\u001B[0;32m   1152\u001B[0m         \u001B[1;32mif\u001B[0m \u001B[0mself\u001B[0m\u001B[1;33m.\u001B[0m\u001B[0m_fwd_prop_noise\u001B[0m \u001B[1;32mis\u001B[0m \u001B[1;32mNone\u001B[0m\u001B[1;33m:\u001B[0m\u001B[1;33m\u001B[0m\u001B[1;33m\u001B[0m\u001B[0m\n\u001B[1;32m-> 1153\u001B[1;33m             \u001B[0mself\u001B[0m\u001B[1;33m.\u001B[0m\u001B[0m_compute_forward_propagation\u001B[0m\u001B[1;33m(\u001B[0m\u001B[1;33m)\u001B[0m\u001B[1;33m\u001B[0m\u001B[1;33m\u001B[0m\u001B[0m\n\u001B[0m\u001B[0;32m   1154\u001B[0m         \u001B[1;32mreturn\u001B[0m \u001B[0mself\u001B[0m\u001B[1;33m.\u001B[0m\u001B[0m_fwd_prop_noise\u001B[0m\u001B[1;33m\u001B[0m\u001B[1;33m\u001B[0m\u001B[0m\n\u001B[0;32m   1155\u001B[0m \u001B[1;33m\u001B[0m\u001B[0m\n",
      "\u001B[1;32m~\\Documents\\qopt\\qopt\\solver_algorithms.py\u001B[0m in \u001B[0;36m_compute_forward_propagation\u001B[1;34m(self)\u001B[0m\n\u001B[0;32m   1321\u001B[0m     \u001B[1;32mdef\u001B[0m \u001B[0m_compute_forward_propagation\u001B[0m\u001B[1;33m(\u001B[0m\u001B[0mself\u001B[0m\u001B[1;33m)\u001B[0m \u001B[1;33m->\u001B[0m \u001B[1;32mNone\u001B[0m\u001B[1;33m:\u001B[0m\u001B[1;33m\u001B[0m\u001B[1;33m\u001B[0m\u001B[0m\n\u001B[0;32m   1322\u001B[0m         \u001B[1;34m\"\"\"Computes the forward propagators. \"\"\"\u001B[0m\u001B[1;33m\u001B[0m\u001B[1;33m\u001B[0m\u001B[0m\n\u001B[1;32m-> 1323\u001B[1;33m         \u001B[0msuper\u001B[0m\u001B[1;33m(\u001B[0m\u001B[1;33m)\u001B[0m\u001B[1;33m.\u001B[0m\u001B[0m_compute_forward_propagation\u001B[0m\u001B[1;33m(\u001B[0m\u001B[1;33m)\u001B[0m\u001B[1;33m\u001B[0m\u001B[1;33m\u001B[0m\u001B[0m\n\u001B[0m\u001B[0;32m   1324\u001B[0m         \u001B[1;32mif\u001B[0m \u001B[0mself\u001B[0m\u001B[1;33m.\u001B[0m\u001B[0m_prop_noise\u001B[0m \u001B[1;32mis\u001B[0m \u001B[1;32mNone\u001B[0m\u001B[1;33m:\u001B[0m\u001B[1;33m\u001B[0m\u001B[1;33m\u001B[0m\u001B[0m\n\u001B[0;32m   1325\u001B[0m             \u001B[0mself\u001B[0m\u001B[1;33m.\u001B[0m\u001B[0m_compute_propagation\u001B[0m\u001B[1;33m(\u001B[0m\u001B[1;33m)\u001B[0m\u001B[1;33m\u001B[0m\u001B[1;33m\u001B[0m\u001B[0m\n",
      "\u001B[1;32m~\\Documents\\qopt\\qopt\\solver_algorithms.py\u001B[0m in \u001B[0;36m_compute_forward_propagation\u001B[1;34m(self)\u001B[0m\n\u001B[0;32m    579\u001B[0m         \u001B[1;34m\"\"\"Computes the forward propagators. \"\"\"\u001B[0m\u001B[1;33m\u001B[0m\u001B[1;33m\u001B[0m\u001B[0m\n\u001B[0;32m    580\u001B[0m         \u001B[1;32mif\u001B[0m \u001B[0mself\u001B[0m\u001B[1;33m.\u001B[0m\u001B[0m_prop\u001B[0m \u001B[1;32mis\u001B[0m \u001B[1;32mNone\u001B[0m\u001B[1;33m:\u001B[0m\u001B[1;33m\u001B[0m\u001B[1;33m\u001B[0m\u001B[0m\n\u001B[1;32m--> 581\u001B[1;33m             \u001B[0mself\u001B[0m\u001B[1;33m.\u001B[0m\u001B[0m_compute_propagation\u001B[0m\u001B[1;33m(\u001B[0m\u001B[1;33m)\u001B[0m\u001B[1;33m\u001B[0m\u001B[1;33m\u001B[0m\u001B[0m\n\u001B[0m\u001B[0;32m    582\u001B[0m         \u001B[0mself\u001B[0m\u001B[1;33m.\u001B[0m\u001B[0m_fwd_prop\u001B[0m \u001B[1;33m=\u001B[0m \u001B[1;33m[\u001B[0m\u001B[0mself\u001B[0m\u001B[1;33m.\u001B[0m\u001B[0minitial_state\u001B[0m\u001B[1;33m.\u001B[0m\u001B[0mcopy\u001B[0m\u001B[1;33m(\u001B[0m\u001B[1;33m)\u001B[0m\u001B[1;33m,\u001B[0m \u001B[1;33m]\u001B[0m\u001B[1;33m\u001B[0m\u001B[1;33m\u001B[0m\u001B[0m\n\u001B[0;32m    583\u001B[0m         \u001B[1;32mfor\u001B[0m \u001B[0mprop\u001B[0m \u001B[1;32min\u001B[0m \u001B[0mself\u001B[0m\u001B[1;33m.\u001B[0m\u001B[0m_prop\u001B[0m\u001B[1;33m:\u001B[0m\u001B[1;33m\u001B[0m\u001B[1;33m\u001B[0m\u001B[0m\n",
      "\u001B[1;32m~\\Documents\\qopt\\qopt\\solver_algorithms.py\u001B[0m in \u001B[0;36m_compute_propagation\u001B[1;34m(self, calculate_propagator_derivatives)\u001B[0m\n\u001B[0;32m   1294\u001B[0m                             \u001B[0mtau\u001B[0m\u001B[1;33m=\u001B[0m\u001B[0mself\u001B[0m\u001B[1;33m.\u001B[0m\u001B[0mtransferred_time\u001B[0m\u001B[1;33m[\u001B[0m\u001B[0mt\u001B[0m\u001B[1;33m]\u001B[0m\u001B[1;33m,\u001B[0m\u001B[1;33m\u001B[0m\u001B[1;33m\u001B[0m\u001B[0m\n\u001B[0;32m   1295\u001B[0m                             \u001B[0mmethod\u001B[0m\u001B[1;33m=\u001B[0m\u001B[0mself\u001B[0m\u001B[1;33m.\u001B[0m\u001B[0mexponential_method\u001B[0m\u001B[1;33m,\u001B[0m\u001B[1;33m\u001B[0m\u001B[1;33m\u001B[0m\u001B[0m\n\u001B[1;32m-> 1296\u001B[1;33m                             is_skew_hermitian=self._is_skew_hermitian)\n\u001B[0m\u001B[0;32m   1297\u001B[0m \u001B[1;33m\u001B[0m\u001B[0m\n\u001B[0;32m   1298\u001B[0m         \u001B[1;32melif\u001B[0m \u001B[1;33m(\u001B[0m\u001B[0mtype\u001B[0m\u001B[1;33m(\u001B[0m\u001B[0mself\u001B[0m\u001B[1;33m.\u001B[0m\u001B[0mprocesses\u001B[0m\u001B[1;33m)\u001B[0m \u001B[1;33m==\u001B[0m \u001B[0mint\u001B[0m \u001B[1;32mand\u001B[0m \u001B[0mself\u001B[0m\u001B[1;33m.\u001B[0m\u001B[0mprocesses\u001B[0m \u001B[1;33m>\u001B[0m \u001B[1;36m0\u001B[0m\u001B[1;33m)\u001B[0m\u001B[0;31m \u001B[0m\u001B[0;31m\\\u001B[0m\u001B[1;33m\u001B[0m\u001B[1;33m\u001B[0m\u001B[0m\n",
      "\u001B[1;32m~\\Documents\\qopt\\qopt\\matrix.py\u001B[0m in \u001B[0;36mexp\u001B[1;34m(self, tau, method, is_skew_hermitian)\u001B[0m\n\u001B[0;32m   1002\u001B[0m \u001B[1;33m\u001B[0m\u001B[0m\n\u001B[0;32m   1003\u001B[0m         \u001B[1;32melif\u001B[0m \u001B[0mmethod\u001B[0m \u001B[1;32min\u001B[0m \u001B[1;33m[\u001B[0m\u001B[1;34m\"approx\"\u001B[0m\u001B[1;33m,\u001B[0m \u001B[1;34m\"Frechet\"\u001B[0m\u001B[1;33m]\u001B[0m\u001B[1;33m:\u001B[0m\u001B[1;33m\u001B[0m\u001B[1;33m\u001B[0m\u001B[0m\n\u001B[1;32m-> 1004\u001B[1;33m             \u001B[0mprop\u001B[0m \u001B[1;33m=\u001B[0m \u001B[0mla\u001B[0m\u001B[1;33m.\u001B[0m\u001B[0mexpm\u001B[0m\u001B[1;33m(\u001B[0m\u001B[0mself\u001B[0m\u001B[1;33m.\u001B[0m\u001B[0mdata\u001B[0m \u001B[1;33m*\u001B[0m \u001B[0mtau\u001B[0m\u001B[1;33m)\u001B[0m\u001B[1;33m\u001B[0m\u001B[1;33m\u001B[0m\u001B[0m\n\u001B[0m\u001B[0;32m   1005\u001B[0m \u001B[1;33m\u001B[0m\u001B[0m\n\u001B[0;32m   1006\u001B[0m         \u001B[1;32melif\u001B[0m \u001B[0mmethod\u001B[0m \u001B[1;33m==\u001B[0m \u001B[1;34m\"first_order\"\u001B[0m\u001B[1;33m:\u001B[0m\u001B[1;33m\u001B[0m\u001B[1;33m\u001B[0m\u001B[0m\n",
      "\u001B[1;32m~\\.conda\\envs\\qopt_dev\\lib\\site-packages\\scipy\\linalg\\matfuncs.py\u001B[0m in \u001B[0;36mexpm\u001B[1;34m(A)\u001B[0m\n\u001B[0;32m    253\u001B[0m     \u001B[1;31m# Input checking and conversion is provided by sparse.linalg.expm().\u001B[0m\u001B[1;33m\u001B[0m\u001B[1;33m\u001B[0m\u001B[1;33m\u001B[0m\u001B[0m\n\u001B[0;32m    254\u001B[0m     \u001B[1;32mimport\u001B[0m \u001B[0mscipy\u001B[0m\u001B[1;33m.\u001B[0m\u001B[0msparse\u001B[0m\u001B[1;33m.\u001B[0m\u001B[0mlinalg\u001B[0m\u001B[1;33m\u001B[0m\u001B[1;33m\u001B[0m\u001B[0m\n\u001B[1;32m--> 255\u001B[1;33m     \u001B[1;32mreturn\u001B[0m \u001B[0mscipy\u001B[0m\u001B[1;33m.\u001B[0m\u001B[0msparse\u001B[0m\u001B[1;33m.\u001B[0m\u001B[0mlinalg\u001B[0m\u001B[1;33m.\u001B[0m\u001B[0mexpm\u001B[0m\u001B[1;33m(\u001B[0m\u001B[0mA\u001B[0m\u001B[1;33m)\u001B[0m\u001B[1;33m\u001B[0m\u001B[1;33m\u001B[0m\u001B[0m\n\u001B[0m\u001B[0;32m    256\u001B[0m \u001B[1;33m\u001B[0m\u001B[0m\n\u001B[0;32m    257\u001B[0m \u001B[1;33m\u001B[0m\u001B[0m\n",
      "\u001B[1;32m~\\.conda\\envs\\qopt_dev\\lib\\site-packages\\scipy\\sparse\\linalg\\matfuncs.py\u001B[0m in \u001B[0;36mexpm\u001B[1;34m(A)\u001B[0m\n\u001B[0;32m    590\u001B[0m             [  0.        ,   0.        ,  20.08553692]])\n\u001B[0;32m    591\u001B[0m     \"\"\"\n\u001B[1;32m--> 592\u001B[1;33m     \u001B[1;32mreturn\u001B[0m \u001B[0m_expm\u001B[0m\u001B[1;33m(\u001B[0m\u001B[0mA\u001B[0m\u001B[1;33m,\u001B[0m \u001B[0muse_exact_onenorm\u001B[0m\u001B[1;33m=\u001B[0m\u001B[1;34m'auto'\u001B[0m\u001B[1;33m)\u001B[0m\u001B[1;33m\u001B[0m\u001B[1;33m\u001B[0m\u001B[0m\n\u001B[0m\u001B[0;32m    593\u001B[0m \u001B[1;33m\u001B[0m\u001B[0m\n\u001B[0;32m    594\u001B[0m \u001B[1;33m\u001B[0m\u001B[0m\n",
      "\u001B[1;32m~\\.conda\\envs\\qopt_dev\\lib\\site-packages\\scipy\\sparse\\linalg\\matfuncs.py\u001B[0m in \u001B[0;36m_expm\u001B[1;34m(A, use_exact_onenorm)\u001B[0m\n\u001B[0;32m    642\u001B[0m     \u001B[1;32mif\u001B[0m \u001B[0meta_1\u001B[0m \u001B[1;33m<\u001B[0m \u001B[1;36m1.495585217958292e-002\u001B[0m \u001B[1;32mand\u001B[0m \u001B[0m_ell\u001B[0m\u001B[1;33m(\u001B[0m\u001B[0mh\u001B[0m\u001B[1;33m.\u001B[0m\u001B[0mA\u001B[0m\u001B[1;33m,\u001B[0m \u001B[1;36m3\u001B[0m\u001B[1;33m)\u001B[0m \u001B[1;33m==\u001B[0m \u001B[1;36m0\u001B[0m\u001B[1;33m:\u001B[0m\u001B[1;33m\u001B[0m\u001B[1;33m\u001B[0m\u001B[0m\n\u001B[0;32m    643\u001B[0m         \u001B[0mU\u001B[0m\u001B[1;33m,\u001B[0m \u001B[0mV\u001B[0m \u001B[1;33m=\u001B[0m \u001B[0mh\u001B[0m\u001B[1;33m.\u001B[0m\u001B[0mpade3\u001B[0m\u001B[1;33m(\u001B[0m\u001B[1;33m)\u001B[0m\u001B[1;33m\u001B[0m\u001B[1;33m\u001B[0m\u001B[0m\n\u001B[1;32m--> 644\u001B[1;33m         \u001B[1;32mreturn\u001B[0m \u001B[0m_solve_P_Q\u001B[0m\u001B[1;33m(\u001B[0m\u001B[0mU\u001B[0m\u001B[1;33m,\u001B[0m \u001B[0mV\u001B[0m\u001B[1;33m,\u001B[0m \u001B[0mstructure\u001B[0m\u001B[1;33m=\u001B[0m\u001B[0mstructure\u001B[0m\u001B[1;33m)\u001B[0m\u001B[1;33m\u001B[0m\u001B[1;33m\u001B[0m\u001B[0m\n\u001B[0m\u001B[0;32m    645\u001B[0m \u001B[1;33m\u001B[0m\u001B[0m\n\u001B[0;32m    646\u001B[0m     \u001B[1;31m# Try Pade order 5.\u001B[0m\u001B[1;33m\u001B[0m\u001B[1;33m\u001B[0m\u001B[1;33m\u001B[0m\u001B[0m\n",
      "\u001B[1;32m~\\.conda\\envs\\qopt_dev\\lib\\site-packages\\scipy\\sparse\\linalg\\matfuncs.py\u001B[0m in \u001B[0;36m_solve_P_Q\u001B[1;34m(U, V, structure)\u001B[0m\n\u001B[0;32m    708\u001B[0m         \u001B[1;32mreturn\u001B[0m \u001B[0mspsolve\u001B[0m\u001B[1;33m(\u001B[0m\u001B[0mQ\u001B[0m\u001B[1;33m,\u001B[0m \u001B[0mP\u001B[0m\u001B[1;33m)\u001B[0m\u001B[1;33m\u001B[0m\u001B[1;33m\u001B[0m\u001B[0m\n\u001B[0;32m    709\u001B[0m     \u001B[1;32melif\u001B[0m \u001B[0mstructure\u001B[0m \u001B[1;32mis\u001B[0m \u001B[1;32mNone\u001B[0m\u001B[1;33m:\u001B[0m\u001B[1;33m\u001B[0m\u001B[1;33m\u001B[0m\u001B[0m\n\u001B[1;32m--> 710\u001B[1;33m         \u001B[1;32mreturn\u001B[0m \u001B[0msolve\u001B[0m\u001B[1;33m(\u001B[0m\u001B[0mQ\u001B[0m\u001B[1;33m,\u001B[0m \u001B[0mP\u001B[0m\u001B[1;33m)\u001B[0m\u001B[1;33m\u001B[0m\u001B[1;33m\u001B[0m\u001B[0m\n\u001B[0m\u001B[0;32m    711\u001B[0m     \u001B[1;32melif\u001B[0m \u001B[0mstructure\u001B[0m \u001B[1;33m==\u001B[0m \u001B[0mUPPER_TRIANGULAR\u001B[0m\u001B[1;33m:\u001B[0m\u001B[1;33m\u001B[0m\u001B[1;33m\u001B[0m\u001B[0m\n\u001B[0;32m    712\u001B[0m         \u001B[1;32mreturn\u001B[0m \u001B[0msolve_triangular\u001B[0m\u001B[1;33m(\u001B[0m\u001B[0mQ\u001B[0m\u001B[1;33m,\u001B[0m \u001B[0mP\u001B[0m\u001B[1;33m)\u001B[0m\u001B[1;33m\u001B[0m\u001B[1;33m\u001B[0m\u001B[0m\n",
      "\u001B[1;32m~\\.conda\\envs\\qopt_dev\\lib\\site-packages\\scipy\\linalg\\basic.py\u001B[0m in \u001B[0;36msolve\u001B[1;34m(a, b, sym_pos, lower, overwrite_a, overwrite_b, debug, check_finite, assume_a, transposed)\u001B[0m\n\u001B[0;32m    216\u001B[0m                         trans=trans, overwrite_b=overwrite_b)\n\u001B[0;32m    217\u001B[0m         \u001B[0m_solve_check\u001B[0m\u001B[1;33m(\u001B[0m\u001B[0mn\u001B[0m\u001B[1;33m,\u001B[0m \u001B[0minfo\u001B[0m\u001B[1;33m)\u001B[0m\u001B[1;33m\u001B[0m\u001B[1;33m\u001B[0m\u001B[0m\n\u001B[1;32m--> 218\u001B[1;33m         \u001B[0mrcond\u001B[0m\u001B[1;33m,\u001B[0m \u001B[0minfo\u001B[0m \u001B[1;33m=\u001B[0m \u001B[0mgecon\u001B[0m\u001B[1;33m(\u001B[0m\u001B[0mlu\u001B[0m\u001B[1;33m,\u001B[0m \u001B[0manorm\u001B[0m\u001B[1;33m,\u001B[0m \u001B[0mnorm\u001B[0m\u001B[1;33m=\u001B[0m\u001B[0mnorm\u001B[0m\u001B[1;33m)\u001B[0m\u001B[1;33m\u001B[0m\u001B[1;33m\u001B[0m\u001B[0m\n\u001B[0m\u001B[0;32m    219\u001B[0m     \u001B[1;31m# Hermitian case 'hesv'\u001B[0m\u001B[1;33m\u001B[0m\u001B[1;33m\u001B[0m\u001B[1;33m\u001B[0m\u001B[0m\n\u001B[0;32m    220\u001B[0m     \u001B[1;32melif\u001B[0m \u001B[0massume_a\u001B[0m \u001B[1;33m==\u001B[0m \u001B[1;34m'her'\u001B[0m\u001B[1;33m:\u001B[0m\u001B[1;33m\u001B[0m\u001B[1;33m\u001B[0m\u001B[0m\n",
      "\u001B[1;31mKeyboardInterrupt\u001B[0m: "
     ]
    }
   ]
  },
  {
   "cell_type": "code",
   "execution_count": 5,
   "outputs": [
    {
     "data": {
      "text/plain": "<Figure size 432x288 with 1 Axes>",
      "image/png": "[encoded data removed]"
     },
     "metadata": {
      "needs_background": "light"
     },
     "output_type": "display_data"
    }
   ],
   "source": [
    "plt.plot(n_time_step_values, mc_fidelities_nt)\n",
    "plt.hlines(lindblad_fidelity_nt, xmin=n_time_step_values[0],\n",
    "           xmax=n_time_step_values[-1])\n",
    "plt.xscale('log')"
   ],
   "metadata": {
    "collapsed": false,
    "pycharm": {
     "name": "#%%\n"
    }
   }
  },
  {
   "cell_type": "code",
   "execution_count": 6,
   "outputs": [],
   "source": [
    "total_time = 2\n",
    "n_variance_values = 15\n",
    "noise_variance_values = np.logspace(\n",
    "    -4, -1, n_variance_values, dtype=float, endpoint=True, base=10)\n",
    "mc_fidelities_variance = np.zeros(n_variance_values)\n",
    "lindblad_fidelities_variance = np.zeros(n_variance_values)\n",
    "\n",
    "for i, noise_variance in enumerate(noise_variance_values):\n",
    "    lindblad_fidelity = evaluate_infidelity_fid_lindblad(\n",
    "        n_time_steps=10, noise_variance=noise_variance, total_time=total_time,\n",
    "        bz_rotation=np.pi\n",
    "    )\n",
    "    lindblad_fidelities_variance[i] = lindblad_fidelity\n",
    "    mc_fidelity = evaluate_fidelity_fid_mc(\n",
    "        n_time_steps=300, noise_variance=noise_variance, total_time=total_time,\n",
    "        bz_rotation=np.pi, low_freq_rel=10)\n",
    "    mc_fidelities_variance[i] = mc_fidelity"
   ],
   "metadata": {
    "collapsed": false,
    "pycharm": {
     "name": "#%%\n"
    }
   }
  },
  {
   "cell_type": "code",
   "execution_count": 7,
   "outputs": [
    {
     "name": "stderr",
     "output_type": "stream",
     "text": [
      "C:\\Users\\julia\\.conda\\envs\\qopt_dev\\lib\\site-packages\\ipykernel_launcher.py:1: MatplotlibDeprecationWarning: Case-insensitive properties were deprecated in 3.3 and support will be removed two minor releases later\n",
      "  \"\"\"Entry point for launching an IPython kernel.\n"
     ]
    },
    {
     "data": {
      "text/plain": "<matplotlib.legend.Legend at 0x24374ce6b88>"
     },
     "execution_count": 7,
     "metadata": {},
     "output_type": "execute_result"
    },
    {
     "data": {
      "text/plain": "<Figure size 432x288 with 1 Axes>",
      "image/png": "[encoded data removed]"
     },
     "metadata": {
      "needs_background": "light"
     },
     "output_type": "display_data"
    }
   ],
   "source": [
    "plt.plot(noise_variance_values, lindblad_fidelities_variance, Label='lindblad')\n",
    "plt.plot(noise_variance_values, mc_fidelities_variance, label='Monte Carlo')\n",
    "plt.xscale('log')\n",
    "plt.yscale('log')\n",
    "plt.legend()"
   ],
   "metadata": {
    "collapsed": false,
    "pycharm": {
     "name": "#%%\n"
    }
   }
  },
  {
   "cell_type": "code",
   "execution_count": 8,
   "outputs": [
    {
     "data": {
      "text/plain": "[<matplotlib.lines.Line2D at 0x2437ba14388>]"
     },
     "execution_count": 8,
     "metadata": {},
     "output_type": "execute_result"
    },
    {
     "data": {
      "text/plain": "<Figure size 432x288 with 1 Axes>",
      "image/png": "[encoded data removed]"
     },
     "metadata": {
      "needs_background": "light"
     },
     "output_type": "display_data"
    }
   ],
   "source": [
    "plt.plot(lindblad_fidelities_variance / mc_fidelities_variance)"
   ],
   "metadata": {
    "collapsed": false,
    "pycharm": {
     "name": "#%%\n"
    }
   }
  },
  {
   "cell_type": "code",
   "execution_count": 9,
   "outputs": [
    {
     "data": {
      "text/plain": "1.0377223592487432"
     },
     "execution_count": 9,
     "metadata": {},
     "output_type": "execute_result"
    }
   ],
   "source": [
    "np.mean(lindblad_fidelities_variance / mc_fidelities_variance)"
   ],
   "metadata": {
    "collapsed": false,
    "pycharm": {
     "name": "#%%\n"
    }
   }
  },
  {
   "cell_type": "code",
   "execution_count": 10,
   "outputs": [
    {
     "ename": "TypeError",
     "evalue": "create_mc_solver() missing 3 required positional arguments: 'total_time', 'bz_rotation', and 'low_freq_ex'",
     "output_type": "error",
     "traceback": [
      "\u001B[1;31m---------------------------------------------------------------------------\u001B[0m",
      "\u001B[1;31mTypeError\u001B[0m                                 Traceback (most recent call last)",
      "\u001B[1;32m<ipython-input-10-9988758859a2>\u001B[0m in \u001B[0;36m<module>\u001B[1;34m\u001B[0m\n\u001B[1;32m----> 1\u001B[1;33m \u001B[0mmc_solver\u001B[0m \u001B[1;33m=\u001B[0m \u001B[0mcreate_mc_solver\u001B[0m\u001B[1;33m(\u001B[0m\u001B[0mn_time_steps\u001B[0m\u001B[1;33m=\u001B[0m\u001B[1;36m1000\u001B[0m\u001B[1;33m,\u001B[0m \u001B[0mnoise_variance\u001B[0m\u001B[1;33m=\u001B[0m\u001B[1;36m.01\u001B[0m\u001B[1;33m)\u001B[0m\u001B[1;33m\u001B[0m\u001B[1;33m\u001B[0m\u001B[0m\n\u001B[0m\u001B[0;32m      2\u001B[0m \u001B[0mmc_solver\u001B[0m\u001B[1;33m.\u001B[0m\u001B[0mnoise_trace_generator\u001B[0m\u001B[1;33m.\u001B[0m\u001B[0mplot_periodogram\u001B[0m\u001B[1;33m(\u001B[0m\u001B[1;36m100\u001B[0m\u001B[1;33m)\u001B[0m\u001B[1;33m\u001B[0m\u001B[1;33m\u001B[0m\u001B[0m\n\u001B[0;32m      3\u001B[0m \u001B[1;33m\u001B[0m\u001B[0m\n",
      "\u001B[1;31mTypeError\u001B[0m: create_mc_solver() missing 3 required positional arguments: 'total_time', 'bz_rotation', and 'low_freq_ex'"
     ]
    }
   ],
   "source": [
    "mc_solver = create_mc_solver(n_time_steps=1000, noise_variance=.01)\n",
    "mc_solver.noise_trace_generator.plot_periodogram(100)"
   ],
   "metadata": {
    "collapsed": false,
    "pycharm": {
     "name": "#%%\n"
    }
   }
  },
  {
   "cell_type": "code",
   "execution_count": null,
   "outputs": [],
   "source": [
    "n_total_time_values = 10\n",
    "total_time_values = np.logspace(-2, 1, n_total_time_values)\n",
    "\n",
    "mc_fidelities_t_total = np.zeros(n_total_time_values)\n",
    "lindblad_fidelities_t_total = np.zeros(n_total_time_values)\n",
    "\n",
    "for i, total_t in enumerate(total_time_values):\n",
    "    lindblad_fidelity = evaluate_infidelity_fid_lindblad(\n",
    "        n_time_steps=10, noise_variance=.01, total_time=total_t,\n",
    "        bz_rotation=np.pi)\n",
    "    lindblad_fidelities_t_total[i] = lindblad_fidelity\n",
    "    mc_fidelity = evaluate_fidelity_fid_mc(\n",
    "        n_time_steps=300, noise_variance=.01, total_time=total_t,\n",
    "        bz_rotation=np.pi)\n",
    "    mc_fidelities_t_total[i] = mc_fidelity"
   ],
   "metadata": {
    "collapsed": false,
    "pycharm": {
     "name": "#%%\n"
    }
   }
  },
  {
   "cell_type": "code",
   "execution_count": null,
   "outputs": [],
   "source": [
    "plt.plot(total_time_values, lindblad_fidelities_t_total, Label='lindblad')\n",
    "plt.plot(total_time_values, mc_fidelities_t_total, label='Monte Carlo')\n",
    "plt.legend()\n",
    "plt.xscale('log')\n",
    "plt.yscale('log')"
   ],
   "metadata": {
    "collapsed": false,
    "pycharm": {
     "name": "#%%\n"
    }
   }
  },
  {
   "cell_type": "code",
   "execution_count": null,
   "outputs": [],
   "source": [
    "plt.plot(lindblad_fidelities_t_total / mc_fidelities_t_total)"
   ],
   "metadata": {
    "collapsed": false,
    "pycharm": {
     "name": "#%%\n"
    }
   }
  },
  {
   "cell_type": "code",
   "execution_count": null,
   "outputs": [],
   "source": [
    "np.mean(lindblad_fidelities_t_total / mc_fidelities_t_total / np.pi)"
   ],
   "metadata": {
    "collapsed": false,
    "pycharm": {
     "name": "#%%\n"
    }
   }
  },
  {
   "cell_type": "markdown",
   "source": [
    "lets calculate the T1 time"
   ],
   "metadata": {
    "collapsed": false,
    "pycharm": {
     "name": "#%% md\n"
    }
   }
  },
  {
   "cell_type": "code",
   "execution_count": null,
   "outputs": [],
   "source": [
    "import scipy.optimize\n",
    "\n",
    "total_time = 10\n",
    "lindblad_solver = create_lindblad_solver(\n",
    "    n_time_steps=100, noise_variance=.5, total_time=total_time, bz_rotation=0)\n",
    "fid_ctrl_amps = np.expand_dims(np.zeros(100), 1)\n",
    "lindblad_solver.set_optimization_parameters(fid_ctrl_amps)\n",
    "\n",
    "propagators = lindblad_solver.forward_propagators"
   ],
   "metadata": {
    "collapsed": false,
    "pycharm": {
     "name": "#%%\n"
    }
   }
  },
  {
   "cell_type": "code",
   "execution_count": null,
   "outputs": [],
   "source": [
    "def vectorize(rho):\n",
    "    d_square = int(rho.shape[0] ** 2)\n",
    "    return DenseOperator(np.reshape(rho.data.T, (d_square, 1)))\n",
    "\n",
    "def devectorize(rho_vec):\n",
    "    d = int(np.round(np.sqrt(rho_vec.shape[0])))\n",
    "    return DenseOperator(np.reshape(rho_vec.data, (d, d)).T)\n",
    "\n",
    "def measure_x(rho):\n",
    "    return (rho * DenseOperator.pauli_x()).tr()"
   ],
   "metadata": {
    "collapsed": false,
    "pycharm": {
     "name": "#%%\n"
    }
   }
  },
  {
   "cell_type": "code",
   "execution_count": null,
   "outputs": [],
   "source": [
    "plus = DenseOperator((1 / np.sqrt(2)) * np.asarray([[1], [1]]))\n",
    "rho_0 = plus * plus.dag()\n",
    "\n",
    "x_projections = [\n",
    "    measure_x(devectorize(p * vectorize(rho_0))) for p in propagators\n",
    "]\n",
    "\n",
    "def t2_decay(t, t2):\n",
    "    return np.exp(-1. * t / t2)\n",
    "\n",
    "popt, pcov = scipy.optimize.curve_fit(\n",
    "    t2_decay,\n",
    "    xdata= total_time / 100 * np.arange(101),\n",
    "    ydata=x_projections,\n",
    "    p0=np.asarray([1 / .5])\n",
    ")\n",
    "\n",
    "plt.plot(total_time / 100 * np.arange(101), x_projections)\n",
    "plt.plot(total_time / 100 * np.arange(101),\n",
    "         t2_decay(total_time / 100 * np.arange(101), popt[0]))"
   ],
   "metadata": {
    "collapsed": false,
    "pycharm": {
     "name": "#%%\n"
    }
   }
  },
  {
   "cell_type": "code",
   "execution_count": null,
   "outputs": [],
   "source": [
    "popt"
   ],
   "metadata": {
    "collapsed": false,
    "pycharm": {
     "name": "#%%\n"
    }
   }
  },
  {
   "cell_type": "code",
   "execution_count": null,
   "outputs": [],
   "source": [
    "infids = [entanglement_fidelity_super_operator(\n",
    "    target=DenseOperator(np.eye(2)),propagator=p)\n",
    "    for p in propagators\n",
    " ]\n",
    "\n",
    "def t1_decay(t, t1):\n",
    "    return np.exp(-1 * (t / t1))\n",
    "popt, pcov = scipy.optimize.curve_fit(\n",
    "    t1_decay,\n",
    "    xdata= total_time / 100 * np.arange(101),\n",
    "    ydata=infids,\n",
    "    p0=np.asarray([1 / .5])\n",
    ")\n",
    "plt.plot(total_time / 100 * np.arange(101), infids)\n",
    "plt.plot(total_time / 100 * np.arange(101),\n",
    "         t1_decay(total_time / 100 * np.arange(101), popt[0]))"
   ],
   "metadata": {
    "collapsed": false,
    "pycharm": {
     "name": "#%% code for t1\n"
    }
   }
  },
  {
   "cell_type": "code",
   "execution_count": null,
   "outputs": [],
   "source": [
    "total_time = 1\n",
    "n_time_steps = 200\n",
    "mc_solver = create_mc_solver(\n",
    "    n_time_steps=n_time_steps, noise_variance=.8, total_time=total_time,\n",
    "    bz_rotation=0, low_freq_ex=100)\n",
    "fid_ctrl_amps = np.expand_dims(np.zeros(n_time_steps), 1)\n",
    "mc_solver.set_optimization_parameters(fid_ctrl_amps)\n",
    "\n",
    "propagators_mc = mc_solver.forward_propagators_noise"
   ],
   "metadata": {
    "collapsed": false,
    "pycharm": {
     "name": "#%%\n"
    }
   }
  },
  {
   "cell_type": "code",
   "execution_count": null,
   "outputs": [],
   "source": [
    "plus = DenseOperator((1 / np.sqrt(2)) * np.asarray([[1], [1]]))\n",
    "\n",
    "x_projections = np.zeros(n_time_steps + 1, dtype=complex)\n",
    "\n",
    "\n",
    "for propagators in propagators_mc:\n",
    "\n",
    "    propagated_states_mc = [\n",
    "        u * plus for u in propagators\n",
    "    ]\n",
    "    x_projections_mc = [\n",
    "        (vec.dag() * DenseOperator.pauli_x() * vec)[0, 0]\n",
    "        for vec in propagated_states_mc\n",
    "    ]\n",
    "    x_projections += np.asarray(x_projections_mc)\n",
    "\n",
    "x_projections /= mc_solver.noise_trace_generator.n_traces"
   ],
   "metadata": {
    "collapsed": false,
    "pycharm": {
     "name": "#%%\n"
    }
   }
  },
  {
   "cell_type": "code",
   "execution_count": null,
   "outputs": [],
   "source": [
    "import scipy.optimize\n",
    "def t2_decay(t, t2):\n",
    "    return np.exp(-1. * t / t2)\n",
    "popt, pcov = scipy.optimize.curve_fit(\n",
    "    t2_decay,\n",
    "    xdata= total_time / n_time_steps * np.arange(n_time_steps + 1),\n",
    "    ydata=x_projections,\n",
    "    p0=np.asarray([1 / .5])\n",
    ")\n",
    "\n",
    "plt.plot(total_time / n_time_steps * np.arange(n_time_steps + 1), x_projections)\n",
    "plt.plot(total_time / n_time_steps * np.arange(n_time_steps + 1),\n",
    "         t2_decay(total_time / n_time_steps * np.arange(n_time_steps + 1),\n",
    "                  popt[0]))\n",
    "print(popt[0])"
   ],
   "metadata": {
    "collapsed": false,
    "pycharm": {
     "name": "#%%\n"
    }
   }
  },
  {
   "cell_type": "code",
   "execution_count": null,
   "outputs": [],
   "source": [
    "mc_solver.noise_trace_generator.plot_periodogram(1000)"
   ],
   "metadata": {
    "collapsed": false,
    "pycharm": {
     "name": "#%%\n"
    }
   }
  },
  {
   "cell_type": "code",
   "execution_count": null,
   "outputs": [],
   "source": [
    "n_values = 10\n",
    "total_time = 1\n",
    "# low_freq_rel_values = np.logspace(\n",
    "#    0, 1, n_values, dtype=int, endpoint=True, base=10)\n",
    "low_freq_rel_values = np.arange(10, dtype=int) + 1\n",
    "lindblad_fidelity_nt = evaluate_infidelity_fid_lindblad(n_time_steps=10,\n",
    "                                                        noise_variance=.01,\n",
    "                                                        total_time=total_time,\n",
    "                                                        bz_rotation=np.pi)\n",
    "mc_fidelities_nt = np.zeros(n_values)\n",
    "\n",
    "for i, low_freq_rel in enumerate(low_freq_rel_values):\n",
    "    mc_fidelity = evaluate_fidelity_fid_mc(\n",
    "        n_time_steps=200, noise_variance=.01, total_time=total_time,\n",
    "        bz_rotation=np.pi, low_freq_rel=low_freq_rel\n",
    "    )\n",
    "    mc_fidelities_nt[i] = mc_fidelity"
   ],
   "metadata": {
    "collapsed": false,
    "pycharm": {
     "name": "#%%\n"
    }
   }
  },
  {
   "cell_type": "code",
   "execution_count": null,
   "outputs": [],
   "source": [
    "plt.plot(low_freq_rel_values, mc_fidelities_nt)\n",
    "plt.hlines(lindblad_fidelity_nt, xmin=low_freq_rel_values[0],\n",
    "           xmax=low_freq_rel_values[-1])\n",
    "plt.xscale('log')"
   ],
   "metadata": {
    "collapsed": false,
    "pycharm": {
     "name": "#%%\n"
    }
   }
  },
  {
   "cell_type": "code",
   "execution_count": null,
   "outputs": [],
   "source": [
    "plt.plot(lindblad_fidelity_nt / mc_fidelities_nt)"
   ],
   "metadata": {
    "collapsed": false,
    "pycharm": {
     "name": "#%%\n"
    }
   }
  },
  {
   "cell_type": "code",
   "execution_count": null,
   "outputs": [],
   "source": [],
   "metadata": {
    "collapsed": false,
    "pycharm": {
     "name": "#%%\n"
    }
   }
  }
 ],
 "metadata": {
  "kernelspec": {
   "display_name": "Python 3",
   "language": "python",
   "name": "python3"
  },
  "language_info": {
   "codemirror_mode": {
    "name": "ipython",
    "version": 2
   },
   "file_extension": ".py",
   "mimetype": "text/x-python",
   "name": "python",
   "nbconvert_exporter": "python",
   "pygments_lexer": "ipython2",
   "version": "2.7.6"
  }
 },
 "nbformat": 4,
 "nbformat_minor": 0
}