{
 "cells": [
  {
   "cell_type": "markdown",
   "metadata": {
    "collapsed": true,
    "pycharm": {
     "name": "#%% md\n"
    }
   },
   "source": [
    "# Decoherence Channels\n",
    "\n",
    "Sanity checks to verify that everything is working\n",
    "\n",
    "consider single triplet qubit\n",
    "\n",
    "\\begin{equation}\n",
    "H = \\frac{J + \\delta J}{2}\\sigma_z + E_z \\sigma_x\n",
    "\\end{equation}\n",
    "\n",
    "where $\\delta J$ is white noise.\n",
    "\n",
    "## $T_1$ Decay\n",
    "\n",
    "We start by considering a pure depolarizing decay."
   ]
  },
  {
   "cell_type": "code",
   "execution_count": 1,
   "outputs": [],
   "source": [
    "from qopt import *\n",
    "import numpy as np\n",
    "import matplotlib.pyplot as plt\n",
    "import scipy.optimize\n",
    "\n",
    "\n",
    "def create_lindblad_solver(n_time_steps, noise_variance,\n",
    "                           total_time, bz_rotation):\n",
    "    delta_bz = bz_rotation / total_time\n",
    "    delta_t = total_time / n_time_steps\n",
    "\n",
    "    def prefactor_function(transferred_parameters, _):\n",
    "        return noise_variance * np.ones_like(transferred_parameters)\n",
    "\n",
    "    lindblad_solver = LindbladSolver(\n",
    "        h_drift=[delta_bz * .5 * DenseOperator.pauli_x()],\n",
    "        h_ctrl=[.5 * DenseOperator.pauli_z()],\n",
    "        tau=delta_t * np.ones(n_time_steps),\n",
    "        prefactor_function=prefactor_function,\n",
    "        lindblad_operators=[.5 * DenseOperator.pauli_z()]\n",
    "    )\n",
    "    return lindblad_solver\n",
    "\n",
    "def evaluate_infidelity_fid_lindblad(n_time_steps, noise_variance,\n",
    "                                     total_time, bz_rotation):\n",
    "    lindblad_solver = create_lindblad_solver(\n",
    "        n_time_steps, noise_variance, total_time, bz_rotation)\n",
    "\n",
    "    fid_ctrl_amps = np.expand_dims(np.zeros(n_time_steps), 1)\n",
    "    target = (.5 * DenseOperator.pauli_x()).exp(1j * bz_rotation)\n",
    "    lindblad_cost_fkt = OperationInfidelity(\n",
    "        solver=lindblad_solver,\n",
    "        super_operator_formalism=True,\n",
    "        target=target\n",
    "    )\n",
    "    lindblad_solver.set_optimization_parameters(fid_ctrl_amps)\n",
    "\n",
    "    return lindblad_cost_fkt.costs()\n",
    "\n",
    "def create_mc_solver(n_time_steps, noise_variance, total_time, bz_rotation,\n",
    "                     low_freq_ex):\n",
    "    delta_bz = bz_rotation / total_time\n",
    "    delta_t = total_time / n_time_steps\n",
    "\n",
    "\n",
    "    def noise_spectral_density(f):\n",
    "        return 2 * noise_variance * np.ones_like(f)  # factor of 2 for\n",
    "        # one-sided spectrum\n",
    "\n",
    "    noise_trace_generator = NTGColoredNoise(\n",
    "        n_samples_per_trace=n_time_steps,\n",
    "        dt=delta_t,\n",
    "        noise_spectral_density=noise_spectral_density,\n",
    "        n_traces=1000,\n",
    "        low_frequency_extension_ratio=low_freq_ex\n",
    "    )\n",
    "\n",
    "    monte_carlo_solver = SchroedingerSMonteCarlo(\n",
    "        h_drift=[delta_bz * .5 * DenseOperator.pauli_x()],\n",
    "        h_ctrl=[.5 * DenseOperator.pauli_z()],\n",
    "        tau=delta_t * np.ones(n_time_steps),\n",
    "        h_noise=[.5 * DenseOperator.pauli_z()],\n",
    "        noise_trace_generator=noise_trace_generator\n",
    "    )\n",
    "\n",
    "    return monte_carlo_solver\n",
    "\n",
    "\n",
    "def evaluate_fidelity_fid_mc(\n",
    "        n_time_steps, noise_variance, total_time, bz_rotation, low_freq_rel):\n",
    "    monte_carlo_solver = create_mc_solver(\n",
    "        n_time_steps, noise_variance, total_time, bz_rotation, low_freq_rel)\n",
    "    fid_ctrl_amps = np.expand_dims(np.zeros(n_time_steps), 1)\n",
    "    target = (.5 * DenseOperator.pauli_x()).exp(1j * bz_rotation)\n",
    "\n",
    "    mc_cost_fkt = OperationNoiseInfidelity(\n",
    "        solver=monte_carlo_solver,\n",
    "        target=target,\n",
    "        neglect_systematic_errors=False\n",
    "    )\n",
    "\n",
    "    monte_carlo_solver.set_optimization_parameters(fid_ctrl_amps)\n",
    "    return mc_cost_fkt.costs()\n",
    "\n",
    "def t2_decay(t, t2):\n",
    "    return np.exp(-1. * t / t2)"
   ],
   "metadata": {
    "collapsed": false,
    "pycharm": {
     "name": "#%%\n"
    }
   }
  },
  {
   "cell_type": "code",
   "source": [
    "n_values = 20\n",
    "total_time = 1\n",
    "n_time_step_values = np.logspace(\n",
    "    2, 4, n_values, dtype=int, endpoint=True, base=10)\n",
    "lindblad_fidelity_nt = evaluate_infidelity_fid_lindblad(n_time_steps=10,\n",
    "                                                        noise_variance=.01,\n",
    "                                                        total_time=total_time,\n",
    "                                                        bz_rotation=np.pi)\n",
    "mc_fidelities_nt = np.zeros(n_values)\n",
    "\n",
    "for i, n_time_step in enumerate(n_time_step_values):\n",
    "    mc_fidelity = evaluate_fidelity_fid_mc(\n",
    "        n_time_steps=n_time_step, noise_variance=.01, total_time=total_time,\n",
    "        bz_rotation=np.pi, low_freq_rel=10\n",
    "    )\n",
    "    mc_fidelities_nt[i] = mc_fidelity"
   ],
   "metadata": {
    "collapsed": false,
    "pycharm": {
     "name": "#%%\n",
     "is_executing": true
    }
   },
   "execution_count": null,
   "outputs": []
  },
  {
   "cell_type": "code",
   "execution_count": null,
   "outputs": [],
   "source": [
    "plt.plot(n_time_step_values, mc_fidelities_nt)\n",
    "plt.hlines(lindblad_fidelity_nt, xmin=n_time_step_values[0],\n",
    "           xmax=n_time_step_values[-1])\n",
    "plt.xscale('log')"
   ],
   "metadata": {
    "collapsed": false,
    "pycharm": {
     "name": "#%%\n",
     "is_executing": true
    }
   }
  },
  {
   "cell_type": "code",
   "execution_count": null,
   "outputs": [],
   "source": [
    "total_time = 2\n",
    "n_variance_values = 15\n",
    "noise_variance_values = np.logspace(\n",
    "    -4, -1, n_variance_values, dtype=float, endpoint=True, base=10)\n",
    "mc_fidelities_variance = np.zeros(n_variance_values)\n",
    "lindblad_fidelities_variance = np.zeros(n_variance_values)\n",
    "\n",
    "for i, noise_variance in enumerate(noise_variance_values):\n",
    "    lindblad_fidelity = evaluate_infidelity_fid_lindblad(\n",
    "        n_time_steps=10, noise_variance=noise_variance, total_time=total_time,\n",
    "        bz_rotation=np.pi\n",
    "    )\n",
    "    lindblad_fidelities_variance[i] = lindblad_fidelity\n",
    "    mc_fidelity = evaluate_fidelity_fid_mc(\n",
    "        n_time_steps=300, noise_variance=noise_variance, total_time=total_time,\n",
    "        bz_rotation=np.pi, low_freq_rel=10)\n",
    "    mc_fidelities_variance[i] = mc_fidelity"
   ],
   "metadata": {
    "collapsed": false,
    "pycharm": {
     "name": "#%%\n",
     "is_executing": true
    }
   }
  },
  {
   "cell_type": "code",
   "execution_count": null,
   "outputs": [],
   "source": [
    "plt.plot(noise_variance_values, lindblad_fidelities_variance, Label='lindblad')\n",
    "plt.plot(noise_variance_values, mc_fidelities_variance, label='Monte Carlo')\n",
    "plt.xscale('log')\n",
    "plt.yscale('log')\n",
    "plt.legend()"
   ],
   "metadata": {
    "collapsed": false,
    "pycharm": {
     "name": "#%%\n",
     "is_executing": true
    }
   }
  },
  {
   "cell_type": "code",
   "execution_count": null,
   "outputs": [],
   "source": [
    "plt.plot(lindblad_fidelities_variance / mc_fidelities_variance)"
   ],
   "metadata": {
    "collapsed": false,
    "pycharm": {
     "name": "#%%\n",
     "is_executing": true
    }
   }
  },
  {
   "cell_type": "code",
   "execution_count": null,
   "outputs": [],
   "source": [
    "np.mean(lindblad_fidelities_variance / mc_fidelities_variance)"
   ],
   "metadata": {
    "collapsed": false,
    "pycharm": {
     "name": "#%%\n",
     "is_executing": true
    }
   }
  },
  {
   "cell_type": "code",
   "execution_count": null,
   "outputs": [],
   "source": [
    "mc_solver = create_mc_solver(n_time_steps=1000,\n",
    "                             noise_variance=.01,\n",
    "                             total_time=total_time,\n",
    "                             bz_rotation=,\n",
    "                             low_freq_ex=)\n",
    "mc_solver.noise_trace_generator.plot_periodogram(100)"
   ],
   "metadata": {
    "collapsed": false,
    "pycharm": {
     "name": "#%%\n",
     "is_executing": true
    }
   }
  },
  {
   "cell_type": "code",
   "execution_count": null,
   "outputs": [],
   "source": [
    "n_total_time_values = 10\n",
    "total_time_values = np.logspace(-2, 1, n_total_time_values)\n",
    "\n",
    "mc_fidelities_t_total = np.zeros(n_total_time_values)\n",
    "lindblad_fidelities_t_total = np.zeros(n_total_time_values)\n",
    "\n",
    "for i, total_t in enumerate(total_time_values):\n",
    "    lindblad_fidelity = evaluate_infidelity_fid_lindblad(\n",
    "        n_time_steps=10, noise_variance=.01, total_time=total_t,\n",
    "        bz_rotation=np.pi)\n",
    "    lindblad_fidelities_t_total[i] = lindblad_fidelity\n",
    "    mc_fidelity = evaluate_fidelity_fid_mc(\n",
    "        n_time_steps=300, noise_variance=.01, total_time=total_t,\n",
    "        bz_rotation=np.pi)\n",
    "    mc_fidelities_t_total[i] = mc_fidelity"
   ],
   "metadata": {
    "collapsed": false,
    "pycharm": {
     "name": "#%%\n",
     "is_executing": true
    }
   }
  },
  {
   "cell_type": "code",
   "execution_count": null,
   "outputs": [],
   "source": [
    "plt.plot(total_time_values, lindblad_fidelities_t_total, Label='lindblad')\n",
    "plt.plot(total_time_values, mc_fidelities_t_total, label='Monte Carlo')\n",
    "plt.legend()\n",
    "plt.xscale('log')\n",
    "plt.yscale('log')"
   ],
   "metadata": {
    "collapsed": false,
    "pycharm": {
     "name": "#%%\n",
     "is_executing": true
    }
   }
  },
  {
   "cell_type": "code",
   "execution_count": null,
   "outputs": [],
   "source": [
    "plt.plot(lindblad_fidelities_t_total / mc_fidelities_t_total)"
   ],
   "metadata": {
    "collapsed": false,
    "pycharm": {
     "name": "#%%\n",
     "is_executing": true
    }
   }
  },
  {
   "cell_type": "code",
   "execution_count": null,
   "outputs": [],
   "source": [
    "np.mean(lindblad_fidelities_t_total / mc_fidelities_t_total / np.pi)"
   ],
   "metadata": {
    "collapsed": false,
    "pycharm": {
     "name": "#%%\n",
     "is_executing": true
    }
   }
  },
  {
   "cell_type": "markdown",
   "source": [
    "lets calculate the T1 time"
   ],
   "metadata": {
    "collapsed": false,
    "pycharm": {
     "name": "#%% md\n"
    }
   }
  },
  {
   "cell_type": "code",
   "execution_count": null,
   "outputs": [],
   "source": [
    "import scipy.optimize\n",
    "\n",
    "total_time = 10\n",
    "lindblad_solver = create_lindblad_solver(\n",
    "    n_time_steps=100, noise_variance=.5, total_time=total_time, bz_rotation=0)\n",
    "fid_ctrl_amps = np.expand_dims(np.zeros(100), 1)\n",
    "lindblad_solver.set_optimization_parameters(fid_ctrl_amps)\n",
    "\n",
    "propagators = lindblad_solver.forward_propagators"
   ],
   "metadata": {
    "collapsed": false,
    "pycharm": {
     "name": "#%%\n",
     "is_executing": true
    }
   }
  },
  {
   "cell_type": "code",
   "execution_count": null,
   "outputs": [],
   "source": [
    "def vectorize(rho):\n",
    "    d_square = int(rho.shape[0] ** 2)\n",
    "    return DenseOperator(np.reshape(rho.data.T, (d_square, 1)))\n",
    "\n",
    "def devectorize(rho_vec):\n",
    "    d = int(np.round(np.sqrt(rho_vec.shape[0])))\n",
    "    return DenseOperator(np.reshape(rho_vec.data, (d, d)).T)\n",
    "\n",
    "def measure_x(rho):\n",
    "    return (rho * DenseOperator.pauli_x()).tr()"
   ],
   "metadata": {
    "collapsed": false,
    "pycharm": {
     "name": "#%%\n",
     "is_executing": true
    }
   }
  },
  {
   "cell_type": "code",
   "execution_count": null,
   "outputs": [],
   "source": [
    "plus = DenseOperator((1 / np.sqrt(2)) * np.asarray([[1], [1]]))\n",
    "rho_0 = plus * plus.dag()\n",
    "\n",
    "x_projections = [\n",
    "    measure_x(devectorize(p * vectorize(rho_0))) for p in propagators\n",
    "]\n",
    "\n",
    "def t2_decay(t, t2):\n",
    "    return np.exp(-1. * t / t2)\n",
    "\n",
    "popt, pcov = scipy.optimize.curve_fit(\n",
    "    t2_decay,\n",
    "    xdata= total_time / 100 * np.arange(101),\n",
    "    ydata=x_projections,\n",
    "    p0=np.asarray([1 / .5])\n",
    ")\n",
    "\n",
    "plt.plot(total_time / 100 * np.arange(101), x_projections)\n",
    "plt.plot(total_time / 100 * np.arange(101),\n",
    "         t2_decay(total_time / 100 * np.arange(101), popt[0]))"
   ],
   "metadata": {
    "collapsed": false,
    "pycharm": {
     "name": "#%%\n",
     "is_executing": true
    }
   }
  },
  {
   "cell_type": "code",
   "execution_count": null,
   "outputs": [],
   "source": [
    "popt"
   ],
   "metadata": {
    "collapsed": false,
    "pycharm": {
     "name": "#%%\n",
     "is_executing": true
    }
   }
  },
  {
   "cell_type": "code",
   "execution_count": null,
   "outputs": [],
   "source": [
    "infids = [entanglement_fidelity_super_operator(\n",
    "    target=DenseOperator(np.eye(2)),propagator=p)\n",
    "    for p in propagators\n",
    " ]\n",
    "\n",
    "def t1_decay(t, t1):\n",
    "    return np.exp(-1 * (t / t1))\n",
    "popt, pcov = scipy.optimize.curve_fit(\n",
    "    t1_decay,\n",
    "    xdata= total_time / 100 * np.arange(101),\n",
    "    ydata=infids,\n",
    "    p0=np.asarray([1 / .5])\n",
    ")\n",
    "plt.plot(total_time / 100 * np.arange(101), infids)\n",
    "plt.plot(total_time / 100 * np.arange(101),\n",
    "         t1_decay(total_time / 100 * np.arange(101), popt[0]))"
   ],
   "metadata": {
    "collapsed": false,
    "pycharm": {
     "name": "#%% code for t1\n",
     "is_executing": true
    }
   }
  },
  {
   "cell_type": "code",
   "execution_count": null,
   "outputs": [],
   "source": [
    "total_time = 1\n",
    "n_time_steps = 200\n",
    "mc_solver = create_mc_solver(\n",
    "    n_time_steps=n_time_steps, noise_variance=.8, total_time=total_time,\n",
    "    bz_rotation=0, low_freq_ex=100)\n",
    "fid_ctrl_amps = np.expand_dims(np.zeros(n_time_steps), 1)\n",
    "mc_solver.set_optimization_parameters(fid_ctrl_amps)\n",
    "\n",
    "propagators_mc = mc_solver.forward_propagators_noise"
   ],
   "metadata": {
    "collapsed": false,
    "pycharm": {
     "name": "#%%\n",
     "is_executing": true
    }
   }
  },
  {
   "cell_type": "code",
   "execution_count": null,
   "outputs": [],
   "source": [
    "plus = DenseOperator((1 / np.sqrt(2)) * np.asarray([[1], [1]]))\n",
    "\n",
    "x_projections = np.zeros(n_time_steps + 1, dtype=complex)\n",
    "\n",
    "\n",
    "for propagators in propagators_mc:\n",
    "\n",
    "    propagated_states_mc = [\n",
    "        u * plus for u in propagators\n",
    "    ]\n",
    "    x_projections_mc = [\n",
    "        (vec.dag() * DenseOperator.pauli_x() * vec)[0, 0]\n",
    "        for vec in propagated_states_mc\n",
    "    ]\n",
    "    x_projections += np.asarray(x_projections_mc)\n",
    "\n",
    "x_projections /= mc_solver.noise_trace_generator.n_traces"
   ],
   "metadata": {
    "collapsed": false,
    "pycharm": {
     "name": "#%%\n",
     "is_executing": true
    }
   }
  },
  {
   "cell_type": "code",
   "execution_count": null,
   "outputs": [],
   "source": [
    "import scipy.optimize\n",
    "def t2_decay(t, t2):\n",
    "    return np.exp(-1. * t / t2)\n",
    "popt, pcov = scipy.optimize.curve_fit(\n",
    "    t2_decay,\n",
    "    xdata= total_time / n_time_steps * np.arange(n_time_steps + 1),\n",
    "    ydata=x_projections,\n",
    "    p0=np.asarray([1 / .5])\n",
    ")\n",
    "\n",
    "plt.plot(total_time / n_time_steps * np.arange(n_time_steps + 1), x_projections)\n",
    "plt.plot(total_time / n_time_steps * np.arange(n_time_steps + 1),\n",
    "         t2_decay(total_time / n_time_steps * np.arange(n_time_steps + 1),\n",
    "                  popt[0]))\n",
    "print(popt[0])"
   ],
   "metadata": {
    "collapsed": false,
    "pycharm": {
     "name": "#%%\n",
     "is_executing": true
    }
   }
  },
  {
   "cell_type": "code",
   "execution_count": null,
   "outputs": [],
   "source": [
    "mc_solver.noise_trace_generator.plot_periodogram(1000)"
   ],
   "metadata": {
    "collapsed": false,
    "pycharm": {
     "name": "#%%\n",
     "is_executing": true
    }
   }
  },
  {
   "cell_type": "code",
   "execution_count": null,
   "outputs": [],
   "source": [
    "n_values = 10\n",
    "total_time = 1\n",
    "# low_freq_rel_values = np.logspace(\n",
    "#    0, 1, n_values, dtype=int, endpoint=True, base=10)\n",
    "low_freq_rel_values = np.arange(10, dtype=int) + 1\n",
    "lindblad_fidelity_nt = evaluate_infidelity_fid_lindblad(n_time_steps=10,\n",
    "                                                        noise_variance=.01,\n",
    "                                                        total_time=total_time,\n",
    "                                                        bz_rotation=np.pi)\n",
    "mc_fidelities_nt = np.zeros(n_values)\n",
    "\n",
    "for i, low_freq_rel in enumerate(low_freq_rel_values):\n",
    "    mc_fidelity = evaluate_fidelity_fid_mc(\n",
    "        n_time_steps=200, noise_variance=.01, total_time=total_time,\n",
    "        bz_rotation=np.pi, low_freq_rel=low_freq_rel\n",
    "    )\n",
    "    mc_fidelities_nt[i] = mc_fidelity"
   ],
   "metadata": {
    "collapsed": false,
    "pycharm": {
     "name": "#%%\n",
     "is_executing": true
    }
   }
  },
  {
   "cell_type": "code",
   "execution_count": null,
   "outputs": [],
   "source": [
    "plt.plot(low_freq_rel_values, mc_fidelities_nt)\n",
    "plt.hlines(lindblad_fidelity_nt, xmin=low_freq_rel_values[0],\n",
    "           xmax=low_freq_rel_values[-1])\n",
    "plt.xscale('log')"
   ],
   "metadata": {
    "collapsed": false,
    "pycharm": {
     "name": "#%%\n",
     "is_executing": true
    }
   }
  },
  {
   "cell_type": "code",
   "execution_count": null,
   "outputs": [],
   "source": [
    "plt.plot(lindblad_fidelity_nt / mc_fidelities_nt)"
   ],
   "metadata": {
    "collapsed": false,
    "pycharm": {
     "name": "#%%\n",
     "is_executing": true
    }
   }
  },
  {
   "cell_type": "code",
   "execution_count": null,
   "outputs": [],
   "source": [],
   "metadata": {
    "collapsed": false,
    "pycharm": {
     "name": "#%%\n",
     "is_executing": true
    }
   }
  }
 ],
 "metadata": {
  "kernelspec": {
   "display_name": "Python 3",
   "language": "python",
   "name": "python3"
  },
  "language_info": {
   "codemirror_mode": {
    "name": "ipython",
    "version": 2
   },
   "file_extension": ".py",
   "mimetype": "text/x-python",
   "name": "python",
   "nbconvert_exporter": "python",
   "pygments_lexer": "ipython2",
   "version": "2.7.6"
  }
 },
 "nbformat": 4,
 "nbformat_minor": 0
}