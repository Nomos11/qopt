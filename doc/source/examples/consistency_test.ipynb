{
 "cells": [
  {
   "cell_type": "markdown",
   "metadata": {
    "collapsed": true,
    "pycharm": {
     "name": "#%% md\n"
    }
   },
   "source": [
    "# Consistency Test\n",
    "\n",
    "To demonstrate the consistency of the different noise simulation methods, we\n",
    "calculate the impact of white noise with the Monte Carlo method, a Lindblad\n",
    "master equation and generalized filter functions.\n",
    "\n",
    "The qubit under consideration is a singlet-triplet semiconductor qubit with\n",
    "the Hamiltonian:\n",
    "\n",
    "\\begin{equation}\n",
    "H = \\frac{J + \\delta J}{2}\\sigma_z + E_z \\sigma_x\n",
    "\\end{equation}\n",
    "\n",
    "where $J$ is the exchange energy, $E_z$ the zeeman-splitting and $\\delta J$ is\n",
    "white noise.\n",
    "\n",
    "We start without additional control $J=0$ and create helper functions for the\n",
    "calculation of infidelities with various methods."
   ]
  },
  {
   "cell_type": "code",
   "execution_count": 1,
   "outputs": [],
   "source": [
    "from qopt import *\n",
    "import numpy as np\n",
    "import matplotlib.pyplot as plt\n",
    "\n",
    "\n",
    "def create_lindblad_solver(n_time_steps, noise_variance, total_time,\n",
    "                           bz_rotation):\n",
    "    delta_bz = bz_rotation / total_time\n",
    "    delta_t = total_time / n_time_steps\n",
    "\n",
    "    def prefactor_function(transferred_parameters, _):\n",
    "        return noise_variance * np.ones_like(transferred_parameters)\n",
    "\n",
    "    lindblad_solver = LindbladSolver(\n",
    "        h_drift=[delta_bz * .5 * DenseOperator.pauli_x()],\n",
    "        h_ctrl=[.5 * DenseOperator.pauli_z()],\n",
    "        tau=delta_t * np.ones(n_time_steps),\n",
    "        prefactor_function=prefactor_function,\n",
    "        lindblad_operators=[.5 * DenseOperator.pauli_z()]\n",
    "    )\n",
    "    return lindblad_solver\n",
    "\n",
    "def evaluate_infidelity_fid_lindblad(n_time_steps, noise_variance,\n",
    "                                     total_time, bz_rotation):\n",
    "    lindblad_solver = create_lindblad_solver(\n",
    "        n_time_steps, noise_variance, total_time, bz_rotation)\n",
    "\n",
    "    fid_ctrl_amps = np.expand_dims(np.zeros(n_time_steps), 1)\n",
    "    target = (.5 * DenseOperator.pauli_x()).exp(1j * bz_rotation)\n",
    "    lindblad_cost_fkt = OperationInfidelity(\n",
    "        solver=lindblad_solver,\n",
    "        super_operator_formalism=True,\n",
    "        target=target\n",
    "    )\n",
    "    lindblad_solver.set_optimization_parameters(fid_ctrl_amps)\n",
    "\n",
    "    return lindblad_cost_fkt.costs()\n",
    "\n",
    "def create_mc_solver(n_time_steps, noise_variance, total_time, bz_rotation,\n",
    "                     low_freq_ex):\n",
    "    delta_bz = bz_rotation / total_time\n",
    "    delta_t = total_time / n_time_steps\n",
    "\n",
    "\n",
    "    def noise_spectral_density(f):\n",
    "        return 2 * noise_variance * np.ones_like(f)  # factor of 2 for\n",
    "        # one-sided spectrum\n",
    "\n",
    "    noise_trace_generator = NTGColoredNoise(\n",
    "        n_samples_per_trace=n_time_steps,\n",
    "        dt=delta_t,\n",
    "        noise_spectral_density=noise_spectral_density,\n",
    "        n_traces=1000,\n",
    "        low_frequency_extension_ratio=low_freq_ex\n",
    "    )\n",
    "    # The low frequency extension leads to the sampling of a noise trace\n",
    "    # for more time steps. The simulation then uses only a section of this\n",
    "    # longer trace. The extension allows the noise trace generator to include\n",
    "    # low frequency noise.\n",
    "\n",
    "    monte_carlo_solver = SchroedingerSMonteCarlo(\n",
    "        h_drift=[delta_bz * .5 * DenseOperator.pauli_x()],\n",
    "        h_ctrl=[.5 * DenseOperator.pauli_z()],\n",
    "        tau=delta_t * np.ones(n_time_steps),\n",
    "        h_noise=[.5 * DenseOperator.pauli_z()],\n",
    "        noise_trace_generator=noise_trace_generator\n",
    "    )\n",
    "\n",
    "    return monte_carlo_solver\n",
    "\n",
    "\n",
    "def evaluate_fidelity_fid_mc(\n",
    "        n_time_steps, noise_variance, total_time, bz_rotation, low_freq_rel):\n",
    "    monte_carlo_solver = create_mc_solver(\n",
    "        n_time_steps, noise_variance, total_time, bz_rotation, low_freq_rel)\n",
    "    fid_ctrl_amps = np.expand_dims(np.zeros(n_time_steps), 1)\n",
    "    target = (.5 * DenseOperator.pauli_x()).exp(1j * bz_rotation)\n",
    "\n",
    "    mc_cost_fkt = OperationNoiseInfidelity(\n",
    "        solver=monte_carlo_solver,\n",
    "        target=target,\n",
    "        neglect_systematic_errors=False\n",
    "    )\n",
    "\n",
    "    monte_carlo_solver.set_optimization_parameters(fid_ctrl_amps)\n",
    "    return mc_cost_fkt.costs()\n",
    "\n",
    "def create_ff_solver(n_time_steps, total_time, bz_rotation):\n",
    "    delta_bz = bz_rotation / total_time\n",
    "    delta_t = total_time / n_time_steps\n",
    "\n",
    "    ff_hamiltonian_noise =[[\n",
    "        .5 * DenseOperator.pauli_z().data,\n",
    "        np.ones(n_time_steps)\n",
    "    ], ]\n",
    "\n",
    "    ff_solver = SchroedingerSolver(\n",
    "        h_drift=[delta_bz * .5 * DenseOperator.pauli_x()],\n",
    "        h_ctrl=[.5 * DenseOperator.pauli_z()],\n",
    "        tau=delta_t * np.ones(n_time_steps),\n",
    "        filter_function_h_n=ff_hamiltonian_noise\n",
    "    )\n",
    "    return ff_solver\n",
    "\n",
    "def evaluate_ff_infid(n_time_steps, noise_variance, total_time, bz_rotation,\n",
    "                      low_freq_rel):\n",
    "\n",
    "    ff_solver = create_ff_solver(n_time_steps, total_time, bz_rotation)\n",
    "    fid_ctrl_amps = np.expand_dims(np.zeros(n_time_steps), 1)\n",
    "    def noise_spectral_density(f):\n",
    "        return 2 * noise_variance * np.ones_like(f)  # factor of 2 for\n",
    "        # one-sided spectrum\n",
    "    ff_cost_fkn = OperatorFilterFunctionInfidelity(\n",
    "        solver=ff_solver,\n",
    "        noise_power_spec_density=noise_spectral_density,\n",
    "        omega=(1 / (total_time * low_freq_rel)) *\n",
    "              (np.arange(n_time_steps * low_freq_rel) + 1)\n",
    "    )\n",
    "    ff_solver.set_optimization_parameters(fid_ctrl_amps)\n",
    "    return ff_cost_fkn.costs()"
   ],
   "metadata": {
    "collapsed": false,
    "pycharm": {
     "name": "#%%\n"
    }
   }
  },
  {
   "cell_type": "markdown",
   "source": [
    "We calculate the infidelities as function of the noise strength."
   ],
   "metadata": {
    "collapsed": false,
    "pycharm": {
     "name": "#%% md\n"
    }
   }
  },
  {
   "cell_type": "code",
   "execution_count": 2,
   "outputs": [],
   "source": [
    "total_time = 2\n",
    "n_variance_values = 15\n",
    "noise_variance_values = np.logspace(\n",
    "    -4, -1, n_variance_values, dtype=float, endpoint=True, base=10)\n",
    "mc_infidelities = np.zeros(n_variance_values)\n",
    "lindblad_infidelities = np.zeros(n_variance_values)\n",
    "ff_infidelities = np.zeros(n_variance_values)\n",
    "\n",
    "for i, noise_variance in enumerate(noise_variance_values):\n",
    "    lindblad_infidelities[i] = evaluate_infidelity_fid_lindblad(\n",
    "        n_time_steps=30, noise_variance=noise_variance, total_time=total_time,\n",
    "        bz_rotation=np.pi\n",
    "    )\n",
    "    mc_infidelities[i] = evaluate_fidelity_fid_mc(\n",
    "        n_time_steps=30, noise_variance=noise_variance, total_time=total_time,\n",
    "        bz_rotation=np.pi, low_freq_rel=10)\n",
    "    ff_infidelities[i] = evaluate_ff_infid(\n",
    "        n_time_steps=30, noise_variance=noise_variance, total_time=total_time,\n",
    "        bz_rotation=np.pi, low_freq_rel=10\n",
    "    )"
   ],
   "metadata": {
    "collapsed": false,
    "pycharm": {
     "name": "#%%\n"
    }
   }
  },
  {
   "cell_type": "markdown",
   "source": [
    "Plotting the infidelities reveals that the results only deviate by a few\n",
    "percent."
   ],
   "metadata": {
    "collapsed": false,
    "pycharm": {
     "name": "#%% md\n"
    }
   }
  },
  {
   "cell_type": "code",
   "execution_count": 3,
   "outputs": [
    {
     "name": "stderr",
     "output_type": "stream",
     "text": [
      "C:\\Users\\julia\\.conda\\envs\\qopt_dev\\lib\\site-packages\\ipykernel_launcher.py:1: MatplotlibDeprecationWarning: Case-insensitive properties were deprecated in 3.3 and support will be removed two minor releases later\n",
      "  \"\"\"Entry point for launching an IPython kernel.\n"
     ]
    },
    {
     "data": {
      "text/plain": "<Figure size 640x480 with 1 Axes>",
      "image/png": "[encoded data removed]"
     },
     "metadata": {},
     "output_type": "display_data"
    }
   ],
   "source": [
    "plt.plot(noise_variance_values, lindblad_infidelities, Label='Lindblad')\n",
    "plt.plot(noise_variance_values, mc_infidelities, label='Monte Carlo')\n",
    "plt.plot(noise_variance_values, ff_infidelities, label='Filter Functions')\n",
    "plt.xscale('log')\n",
    "plt.ylabel('Infidelity')\n",
    "plt.yscale('log')\n",
    "plt.xlabel('Noise Spectral Density (a.u.)')\n",
    "plt.legend()\n",
    "plt.show()"
   ],
   "metadata": {
    "collapsed": false,
    "pycharm": {
     "name": "#%%\n"
    }
   }
  },
  {
   "cell_type": "code",
   "execution_count": 3,
   "outputs": [],
   "source": [],
   "metadata": {
    "collapsed": false,
    "pycharm": {
     "name": "#%%\n"
    }
   }
  }
 ],
 "metadata": {
  "kernelspec": {
   "display_name": "Python 3",
   "language": "python",
   "name": "python3"
  },
  "language_info": {
   "codemirror_mode": {
    "name": "ipython",
    "version": 2
   },
   "file_extension": ".py",
   "mimetype": "text/x-python",
   "name": "python",
   "nbconvert_exporter": "python",
   "pygments_lexer": "ipython2",
   "version": "2.7.6"
  }
 },
 "nbformat": 4,
 "nbformat_minor": 0
}