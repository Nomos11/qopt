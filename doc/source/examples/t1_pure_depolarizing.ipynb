{
 "cells": [
  {
   "cell_type": "markdown",
   "metadata": {
    "collapsed": true,
    "pycharm": {
     "name": "#%% md\n"
    }
   },
   "source": [
    "# $T_1$ Depolarization\n",
    "\n",
    "\\begin{equation}\n",
    "\\partial_t \\rho(t) = -i [H, \\rho (t)] + \\sum_k \\gamma_k\n",
    "\\left( L_k \\rho(t) L_k^\\dagger-\n",
    "\\frac{1}{2} \\{ L_k^\\dagger L_k, \\rho(t) \\} \\right)\n",
    "\\end{equation}\n",
    "\n",
    "solve for $H=0$, $L_1 = \\sigma_- = \\frac{1}{2} (\\sigma_x -i \\sigma_y)$,\n",
    "$\\gamma_1 = \\gamma$ and $\\gamma_k = 0 \\, \\forall \\, k >1$.\n",
    "\n",
    "\\begin{equation}\n",
    "\\partial_t \\rho(t) =  \\gamma (\\sigma_- \\rho \\sigma_+\n",
    "- \\frac{1}{2} \\{ \\sigma_+ \\sigma_-, \\rho \\} )\n",
    "\\end{equation}\n",
    "\n",
    "with $\\sigma_+ = \\sigma_-^\\dagger$. The density matrix\n",
    "of a single qubit can be written as\n",
    "$\\rho = \\frac{1}{2} (\\mathbb{I} + \\vec{v} \\cdot \\vec{\\sigma}) $ and the\n",
    "solution to the Lindblad equation is:"
   ]
  },
  {
   "cell_type": "markdown",
   "source": [
    "\\begin{align}\n",
    "v_x(t) &= v_x(0)e^{-\\gamma t / 2} \\\\\n",
    "v_y(t) &= v_y(0)e^{-\\gamma t / 2} \\\\\n",
    "v_z(t) &= 1 + [ v_z(0) - 1]e^{-\\gamma t } \\\\\n",
    "\\end{align}\n"
   ],
   "metadata": {
    "collapsed": false,
    "pycharm": {
     "name": "#%% md\n"
    }
   }
  }
 ],
 "metadata": {
  "kernelspec": {
   "display_name": "Python 3",
   "language": "python",
   "name": "python3"
  },
  "language_info": {
   "codemirror_mode": {
    "name": "ipython",
    "version": 2
   },
   "file_extension": ".py",
   "mimetype": "text/x-python",
   "name": "python",
   "nbconvert_exporter": "python",
   "pygments_lexer": "ipython2",
   "version": "2.7.6"
  }
 },
 "nbformat": 4,
 "nbformat_minor": 0
}