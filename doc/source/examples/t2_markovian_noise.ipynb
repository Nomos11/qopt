{
 "cells": [
  {
   "cell_type": "markdown",
   "metadata": {
    "collapsed": true,
    "pycharm": {
     "name": "#%% md\n"
    }
   },
   "source": [
    "\n",
    "\n",
    "\\begin{equation}\n",
    "\\frac{1}{2} (\\partial_t v_x \\sigma_x + \\partial_t v_y \\sigma_y\n",
    "+\\partial_t v_z \\sigma_z) = - \\gamma (v_x \\sigma_x + v_y \\sigma_y)\n",
    "\\end{equation}\n",
    "\n",
    "which is solved by\n",
    "\n",
    "\\begin{align}\n",
    "v_x(t) &= v_x(0)e^{-2\\gamma t} \\\\\n",
    "v_y(t) &= v_y(0)e^{-2\\gamma t} \\\\\n",
    "v_z(t) &= v_z(0)e^{-2\\gamma t} \\\\\n",
    "\\end{align}"
   ]
  }
 ],
 "metadata": {
  "kernelspec": {
   "display_name": "Python 3",
   "language": "python",
   "name": "python3"
  },
  "language_info": {
   "codemirror_mode": {
    "name": "ipython",
    "version": 2
   },
   "file_extension": ".py",
   "mimetype": "text/x-python",
   "name": "python",
   "nbconvert_exporter": "python",
   "pygments_lexer": "ipython2",
   "version": "2.7.6"
  }
 },
 "nbformat": 4,
 "nbformat_minor": 0
}