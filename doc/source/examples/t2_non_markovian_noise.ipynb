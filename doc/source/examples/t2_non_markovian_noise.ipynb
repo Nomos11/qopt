{
 "cells": [
  {
   "cell_type": "markdown",
   "metadata": {
    "collapsed": true,
    "pycharm": {
     "name": "#%% md\n"
    }
   },
   "source": [
    "## $T_2$ Dephasing with Non-Markovian Noise\n",
    "In this notebook, we show the effect of non-Markovian noise sources on qubit\n",
    "coherence and their implementation in qopt. In terms of noise spectral densities\n",
    "(NSD), these noise sources are characterized by non-trivial frequency\n",
    "dependencies. While Markovian (or white) noise has a flat NSD, a typical\n",
    "frequency behaviour of a non-Markovian SND is described for example by a power\n",
    "law (referred to as colored noise).\n",
    "\n",
    "We will demonstrate the effect of such a noise source based on Hamiltonian\n",
    "motivated by the computational states of a singlet-triplet spin qubit with\n",
    "basis $\\{|S \\rangle, |T_0 \\rangle \\}$. The basis states correspond to the spin\n",
    "singlet and triplet zero states\n",
    "\n",
    "\\begin{align}\n",
    "|S \\rangle = \\frac{1}{\\sqrt{2}} \\left( |\\uparrow \\downarrow \\rangle\n",
    "- |\\downarrow \\uparrow \\rangle \\right) \\\\\n",
    "|T_0 \\rangle = \\frac{1}{\\sqrt{2}} \\left( |\\uparrow \\downarrow \\rangle\n",
    "+ |\\downarrow \\uparrow \\rangle \\right)\n",
    "\\end{align}\n",
    "\n",
    "where $|S \\rangle$ is defined as out $|0 \\rangle$ state.\n",
    "\n",
    "The Hamiltonian we employ is\n",
    "\\begin{align}\n",
    "H = \\frac{J(\\varepsilon + \\delta \\varepsilon)}{2} \\sigma_z +\n",
    "\\frac{\\Delta B_z}{2} \\sigma_x.\n",
    "\\end{align}\n",
    "\n",
    "Here, $J$ is the exchange coupling between the involved spins controled by an\n",
    "control parameter $\\varepsilon$. $\\Delta B_z$ describes a magnetic field\n",
    "difference between the two spins. $\\delta \\varepsilon$ is noise on the control\n",
    "parameter whose one-sided NSD we assume to follow $S_{\\varepsilon}(f) = S_0/f$.\n",
    "\n",
    "A common approximation for the exchange coupling that we will use is\n",
    "$J(\\varepsilon) = J_0 e^{\\varepsilon / \\varepsilon_0}$.\n",
    "\n",
    "As we are dealing with correlated noise sources here, we cannot use the\n",
    "Lindblad master equation but perform Monte Carlo simulations.\n",
    "If we wanted to optimize control pulses, we would use generalized filter\n",
    "functions for the calculation of infidelities.\n",
    "Furthermore, as\n",
    "our noise acts on a control parameter instead of a control amplitude, we\n",
    "setup our solver with the according qopt solver class that incorporates this\n",
    "usecase."
   ]
  },
  {
   "cell_type": "code",
   "execution_count": 1,
   "metadata": {},
   "outputs": [],
   "source": [
    "import numpy as np\n",
    "import matplotlib.pyplot as plt\n",
    "\n",
    "from scipy.optimize import curve_fit\n",
    "\n",
    "from qopt.matrix import DenseOperator\n",
    "from qopt.solver_algorithms import SchroedingerSMCControlNoise\n",
    "from qopt.amplitude_functions import CustomAmpFunc\n",
    "from qopt.noise import NTGColoredNoise\n",
    "\n",
    "pauli_x, pauli_z = DenseOperator.pauli_x(), DenseOperator.pauli_z()\n",
    "\n",
    "np.random.seed(0)\n",
    "\n",
    "S_0 = 1e-3\n",
    "n_traces = 500\n",
    "\n",
    "time_step = 0.1\n",
    "\n",
    "delta_Bz = np.pi / 2\n",
    "J_0 = 1\n",
    "eps_0 = 1\n",
    "\n",
    "def exchange_coupling(ctrl_param):\n",
    "    return J_0 * np.exp(ctrl_param / eps_0)\n",
    "    \n",
    "exchange_coupling_ampl_fctn = CustomAmpFunc(\n",
    "    value_function=exchange_coupling,\n",
    "    derivative_function=None\n",
    ")\n",
    "\n",
    "def pink_spectrum(f):\n",
    "    \n",
    "    return S_0 / f\n",
    "    \n",
    "def average_monte_carlo_traces(solver, initial_state, measurement_state):\n",
    "    \n",
    "    propagators = solver.forward_propagators_noise\n",
    "    probabilities = np.zeros(n_traces)\n",
    "    \n",
    "    for i in range(n_traces):\n",
    "        final_state = propagators[i][-1] * initial_state\n",
    "        probabilities[i] = np.abs(\n",
    "            (measurement_state.dag() * final_state)[0,0]) ** 2\n",
    "\n",
    "    return np.mean(probabilities)\n",
    "    "
   ]
  },
  {
   "cell_type": "markdown",
   "metadata": {},
   "source": [
    "### Free Induction Decay (FID)\n",
    "The effect of $1/f$ noise becomes apparent when performing an FID. Starting in\n",
    "the $|0 \\rangle$ state, the procedure consists of two $X_{\\pi/2}$ pulses that\n",
    "are intercepted by a waiting period of lenth $\\tau$. During the latter, the\n",
    "qubit precesses around the z-axis with frequency $J$ and is sensitive to noise\n",
    "on $\\varepsilon$. At the end, the probability of the $| T_0 \\rangle$ (or the\n",
    "$|S \\rangle$) state is measured which reveals an approximately Gaussian\n",
    "$T_2^*$ decay following\n",
    "\n",
    "\\begin{align}\n",
    "P(T_0) = \\langle |\\langle T_0 | \\psi_f \\rangle |^2 \\rangle_{\\delta\n",
    "\\varepsilon} \\propto e^{-(\\tau / T_2^*)^2} %*\n",
    "\\end{align}\n",
    "\n",
    "where $|\\psi_f(\\tau) \\rangle$ is the state after a FID sequence with waiting\n",
    "time $\\tau$ and $\\langle \\cdot \\rangle_{\\delta \\varepsilon}$ is the average\n",
    "over an enseble of noise traces.\n",
    "\n",
    "In our simulation we use an idealistic pulse with vanishing exchange coupling\n",
    "$J$ during the $X_{\\pi/2}$ rotation. This is achieved by setting $\\varepsilon$\n",
    "to a large negative value. The $X_{\\pi/2}$ rotation is mediated by $\\Delta\n",
    "B_z$.\n",
    "\n",
    "To solely focus on noise related effects, we let $\\Delta B_z$ vanish during the\n",
    "precession periods. This is done by setting it to zero in the drift\n",
    "Hamiltonian. Alternatively, we could use a $\\Delta B_z$ that is negligible\n",
    "with respect to the pressesion frequency. This would result in much longer\n",
    "pulse sequences increasing the computation time drastically.\n",
    "\n",
    "Another important consideration to be made when constructing the noise trace\n",
    "generator is to specify the $\\texttt{low_frequency_extention_ratio}$ parameter.\n",
    "This will artificially increase the sequence's length during the generation of\n",
    "noise traces by multiplying with the specifed value. As the low-frequency\n",
    "cut-off of the noise spectrum is determined by the sequence duration, the\n",
    "cut-off frequency is decreased. In this way, we can include noise that is\n",
    "already quasi-static with respect to $\\tau$ but still fluctuates on comparable\n",
    "time scales. We chose a factor of 500 as the $T_2^*$-time roughly converges at\n",
    "this point."
   ]
  },
  {
   "cell_type": "code",
   "execution_count": 2,
   "metadata": {
    "scrolled": true
   },
   "outputs": [
    {
     "data": {
      "text/plain": "Text(0.5, 1.0, 'FID Control Amplitude')"
     },
     "execution_count": 2,
     "metadata": {},
     "output_type": "execute_result"
    },
    {
     "data": {
      "text/plain": "<Figure size 432x288 with 1 Axes>",
      "image/png": "[encoded data removed]"
     },
     "metadata": {
      "needs_background": "light"
     },
     "output_type": "display_data"
    }
   ],
   "source": [
    "X_pi_half_time = np.pi / 2 / delta_Bz\n",
    "n_steps_X_pi_half = int(X_pi_half_time / time_step)\n",
    "\n",
    "# Control parameter during X_pi/2 pulse\n",
    "eps_idle = -20  \n",
    "\n",
    "# Control param. resulting in precession freq. J(eps_work) = pi / 8\n",
    "eps_work = eps_0 * np.log(np.pi / 8 / J_0)  \n",
    "\n",
    "def fid_pulse(tau):\n",
    "    \"\"\"\n",
    "    Generates the control pulse (epsilon) for the FID sequence.\n",
    "    \"\"\"\n",
    "    n_steps_tau = int(tau / time_step)\n",
    "    n_steps_pulse = 2 * n_steps_X_pi_half + n_steps_tau\n",
    "    \n",
    "    ctrl_parameter = np.zeros((n_steps_pulse,1)) + eps_idle\n",
    "    \n",
    "    ind_start, ind_end = n_steps_X_pi_half, n_steps_X_pi_half + n_steps_tau\n",
    "    ctrl_parameter[ind_start:ind_end] = eps_work\n",
    "\n",
    "    return ctrl_parameter\n",
    "\n",
    "\n",
    "def create_monte_carlo_solver(tau, pulse_function):\n",
    "    \n",
    "    control_pulse = pulse_function(tau)\n",
    "    n_time_steps = len(control_pulse)\n",
    "    \n",
    "    active_dBz = np.where(control_pulse == eps_idle, 1, 0).flatten()\n",
    "\n",
    "    h_drift = [0.5 * delta_Bz * active * pauli_x  for active in active_dBz]\n",
    "\n",
    "    ntg_pink = NTGColoredNoise(\n",
    "        n_samples_per_trace=n_time_steps,\n",
    "        noise_spectral_density=pink_spectrum,\n",
    "        dt=time_step,\n",
    "        n_traces=n_traces,\n",
    "        low_frequency_extension_ratio=500\n",
    "    )\n",
    "    \n",
    "    solver = SchroedingerSMCControlNoise(\n",
    "        h_drift=h_drift,\n",
    "        h_ctrl=[.5 * pauli_z,],\n",
    "        tau=time_step * np.ones(n_time_steps),\n",
    "        noise_trace_generator=ntg_pink,\n",
    "        amplitude_function=exchange_coupling_ampl_fctn\n",
    "    )\n",
    "    \n",
    "    solver.set_optimization_parameters(control_pulse)\n",
    "    \n",
    "    return solver\n",
    "\n",
    "sample_solver = create_monte_carlo_solver(10, fid_pulse)\n",
    "sample_amplitude = sample_solver._ctrl_amps\n",
    "\n",
    "plt.plot(np.arange(len(sample_amplitude)) * time_step, sample_amplitude)\n",
    "plt.xlabel(\"time / ms\")\n",
    "plt.ylabel(\"$J(\\\\varepsilon(t))$\")\n",
    "plt.title(\"FID Control Amplitude\")\n"
   ]
  },
  {
   "cell_type": "code",
   "execution_count": null,
   "metadata": {
    "pycharm": {
     "is_executing": true
    }
   },
   "outputs": [],
   "source": [
    "precession_times = np.arange(0,100,3)\n",
    "\n",
    "initial_state = DenseOperator(np.array([[1], [0]]))\n",
    "measurement_state = DenseOperator(np.array([[0], [1]]))\n",
    "\n",
    "probabilities_fid = np.zeros(len(precession_times))\n",
    "\n",
    "for i, tau in enumerate(precession_times):\n",
    "    \n",
    "    solver = create_monte_carlo_solver(tau, fid_pulse)\n",
    "    probabilities_fid[i] = average_monte_carlo_traces(\n",
    "        solver, initial_state, measurement_state)\n",
    "    "
   ]
  },
  {
   "cell_type": "code",
   "execution_count": null,
   "metadata": {
    "scrolled": true,
    "pycharm": {
     "is_executing": true
    }
   },
   "outputs": [],
   "source": [
    "def T2_star_decay(t, T2, alpha):\n",
    "    omega = exchange_coupling(eps_work)\n",
    "    return 0.5 * (1 + np.exp(-(t / T2)**alpha) * np.cos(omega * t))\n",
    "\n",
    "popt, cov = curve_fit(T2_star_decay, precession_times, probabilities_fid,\n",
    "                      p0=[50, 2])\n",
    "print(\"Fit parameters: \", popt)\n",
    "\n",
    "precession_times_fine = np.linspace(min(precession_times),\n",
    "                                    max(precession_times), 500)\n",
    "\n",
    "plt.scatter(precession_times, probabilities_fid, label=\"Simulation Data\")\n",
    "plt.plot(precession_times_fine, T2_star_decay(precession_times_fine, *popt),\n",
    "         color=\"tab:orange\",\n",
    "         label=\"Fit: \\n$T_2^*$ = {:.2f} ms\\n \".format(popt[0]))\n",
    "plt.xlabel(\"$\\\\tau$ / ms\")\n",
    "plt.ylabel(\"$\\langle P(T_0) \\\\rangle$\")\n",
    "plt.legend() \n"
   ]
  },
  {
   "cell_type": "markdown",
   "metadata": {},
   "source": [
    "The simulated $T_2^*$ time lies in the expected order of magnitude when\n",
    "approximated by\n",
    "$(T_2^*)^2 = \\frac{2}{S_0 (dJ/d\\varepsilon)^2\\ln\\frac{T_{meas}}{2\\pi \\tau}}$\n",
    "(c.f., supplement of\n",
    "[Dial et al., PRL 110 (2013)](https://doi.org/10.1103/PhysRevLett.110.146804))\n",
    "leading to $T_2^* \\approx 54~\\text{ms}$ for our parameters. We approximated the\n",
    "measurement time by the number of noise traces\n",
    "$T_{meas} \\approx n_{traces} \\tau$.\n",
    "A slight deviation from the Gaussian decay is caused by the finite\n",
    "frequency cutoff, the non-linearity of $J$ and stochastic fluctuations."
   ]
  },
  {
   "cell_type": "markdown",
   "metadata": {},
   "source": [
    "### Spin-Echo\n",
    "The coherence time can be increased by intercepting periods, during which the\n",
    "qubit is susceptible to noise, with appropriate echo pulses. For example, a\n",
    "$X_{\\pi}$ pulse can be placed in the middle of the free precession period of\n",
    "the FID sequence. This allows to refocus over- or underrotation of the qubit\n",
    "that occurred due to noise that is quasi-static with respect to the precession\n",
    "time $\\tau$.\n",
    "\n",
    "In the noise-less case, the qubit would return to its initial position after\n",
    "the pulse sequence. We therfore expect the average probability of the $| S\n",
    "\\rangle$ state to decrease as $\\langle P(S) \\rangle = \\frac{1}{2} \\left(1 +\n",
    "e^{-(t/T_{2,\\text{echo}})^2} \\right)$."
   ]
  },
  {
   "cell_type": "code",
   "execution_count": null,
   "metadata": {
    "pycharm": {
     "is_executing": true
    }
   },
   "outputs": [],
   "source": [
    "def echo_pulse(tau):\n",
    "    \n",
    "    n_steps_half_tau = int(tau / 2 / time_step)\n",
    "    n_steps_pulse = 4 * n_steps_X_pi_half + 2 * n_steps_half_tau\n",
    "\n",
    "    ctrl_parameter = np.zeros((n_steps_pulse,1)) + eps_idle\n",
    "\n",
    "    ind_start = n_steps_X_pi_half\n",
    "    ind_end = ind_start + n_steps_half_tau\n",
    "    ctrl_parameter[ind_start:ind_end] = eps_work\n",
    "    \n",
    "    ind_start = 3 * n_steps_X_pi_half + n_steps_half_tau\n",
    "    ind_end = ind_start + n_steps_half_tau\n",
    "    ctrl_parameter[ind_start:ind_end] = eps_work\n",
    "\n",
    "    return ctrl_parameter\n",
    "\n",
    "echo_sample_solver = create_monte_carlo_solver(10, echo_pulse)\n",
    "echo_sample_amplitudes = echo_sample_solver._ctrl_amps\n",
    "plt.plot(np.arange(len(echo_sample_amplitudes)) * time_step,\n",
    "         echo_sample_amplitudes)\n",
    "plt.xlabel(\"time / ms\")\n",
    "plt.ylabel(\"$J(\\\\varepsilon(t))$\")\n",
    "plt.title(\"Spin Echo Control Amplitude\")\n"
   ]
  },
  {
   "cell_type": "code",
   "execution_count": null,
   "metadata": {
    "scrolled": true,
    "pycharm": {
     "is_executing": true
    }
   },
   "outputs": [],
   "source": [
    "precession_times = np.arange(0,100,3)\n",
    "\n",
    "probabilities_echo = np.zeros(len(precession_times))\n",
    "\n",
    "measurement_state_echo = initial_state\n",
    "\n",
    "for i, tau in enumerate(precession_times):\n",
    "    \n",
    "    solver = create_monte_carlo_solver(tau, echo_pulse)\n",
    "    probabilities_echo[i] = average_monte_carlo_traces(solver, initial_state,\n",
    "                                                       measurement_state_echo)\n",
    "    "
   ]
  },
  {
   "cell_type": "code",
   "execution_count": null,
   "metadata": {
    "pycharm": {
     "is_executing": true
    }
   },
   "outputs": [],
   "source": [
    "def T2_echo_decay(t, T2_echo, alpha):\n",
    "    return 0.5 * (1 + np.exp(-(t / T2_echo) ** alpha))\n",
    "    \n",
    "popt_echo, cov_echo_al = curve_fit(T2_echo_decay, precession_times,\n",
    "                                   probabilities_echo, p0=[136, 2])\n",
    "print(\"Fit parameters: \", popt_echo)\n",
    "\n",
    "plt.scatter(precession_times, probabilities_echo, label=\"Simulation Data\")\n",
    "plt.plot(precession_times_fine, T2_echo_decay(\n",
    "         precession_times_fine, *popt_echo),\n",
    "         color=\"tab:orange\",\n",
    "         label=\"Fit, $T_{2,echo}$ = \" + \"{:.2f} ms\".format(popt_echo[0]))\n",
    "plt.xlabel(\"$\\\\tau$ / ms\")\n",
    "plt.ylabel(\"$\\langle P(S) \\\\rangle$\")\n",
    "plt.legend()\n"
   ]
  },
  {
   "cell_type": "markdown",
   "metadata": {},
   "source": [
    "We see that the spin echo increases the coherence time in comparison to free\n",
    "decay. Also, the coherence time matches the order of magnitude by the\n",
    "theoretically predicted (c.f., above mentioned reference)\n",
    "\n",
    "\\begin{align}\n",
    "T_{2,echo}^{1+\\alpha} = \\frac{1}{S_0 (dJ/d\\varepsilon)^2 (2-2^{-\\alpha+1})\n",
    "\\Gamma(-1-\\alpha) \\sin(\\pi \\alpha/2)}\n",
    "\\end{align}\n",
    "\n",
    "for $\\alpha = 1$ leading to $T_{2,echo} \\approx 137~\\text{ms}$."
   ]
  }
 ],
 "metadata": {
  "kernelspec": {
   "display_name": "Python 3",
   "language": "python",
   "name": "python3"
  },
  "language_info": {
   "codemirror_mode": {
    "name": "ipython",
    "version": 3
   },
   "file_extension": ".py",
   "mimetype": "text/x-python",
   "name": "python",
   "nbconvert_exporter": "python",
   "pygments_lexer": "ipython3",
   "version": "3.7.9"
  }
 },
 "nbformat": 4,
 "nbformat_minor": 1
}