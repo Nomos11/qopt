{
 "cells": [
  {
   "cell_type": "code",
   "execution_count": null,
   "outputs": [],
   "source": [
    "# different methods to store the control operator and calculate matrix\n",
    "# exponential\n"
   ],
   "metadata": {
    "collapsed": false,
    "pycharm": {
     "name": "#%%\n"
    }
   }
  },
  {
   "cell_type": "markdown",
   "source": [
    "# Numerics\n",
    "\n",
    "The numerical intensive calculations are encapsulated by the a 'OperatorMatrix'\n",
    "class, which can encode quantum states or operators in a matrix representation,\n",
    "meaning that each object must have two dimensions. In the case of state vectors\n",
    "one dimension can have only a single entry.\n",
    "\n",
    "The matrix can be stored in a dense format by the 'DenseOperator' class, where\n",
    "the date is stored in a numpy array. A sparse version is planned."
   ],
   "metadata": {
    "collapsed": false,
    "pycharm": {
     "name": "#%% md\n"
    }
   }
  },
  {
   "cell_type": "code",
   "execution_count": 2,
   "outputs": [],
   "source": [
    "import numpy as np\n",
    "from qopt.matrix import DenseOperator\n",
    "\n",
    "sigma_x = DenseOperator.pauli_x()\n",
    "sigma_plus = DenseOperator(np.asarray([[0, 1], [0, 0]]))"
   ],
   "metadata": {
    "collapsed": false,
    "pycharm": {
     "name": "#%%\n"
    }
   }
  },
  {
   "cell_type": "markdown",
   "source": [
    "The actual matrix is stored in the data attribute. Indexing is the same as\n",
    "for numpy arrays.\n",
    "\n",
    "The basic mathematical operations are implemented in functions, such as\n",
    "calculation of the trace, the complex conjugation, the dagger operation, the\n",
    "kronecker product and so on. Matrix and scalar multiplication use the '*'\n",
    "operator. Whenever useful operations can be executed in-place, by setting the\n",
    "copy_ argument to False."
   ],
   "metadata": {
    "collapsed": false,
    "pycharm": {
     "name": "#%% md\n"
    }
   }
  },
  {
   "cell_type": "code",
   "execution_count": 11,
   "outputs": [
    {
     "name": "stdout",
     "output_type": "stream",
     "text": [
      "Access underlying array by .data: \n",
      "[[0.+0.j 1.+0.j]\n",
      " [1.+0.j 0.+0.j]]\n",
      "Scalar multiplication: \n",
      "[[0.+0.j 2.+0.j]\n",
      " [2.+0.j 0.+0.j]]\n",
      "Matrix mulitplication: \n",
      "[[0.+0.j 0.+0.j]\n",
      " [0.+0.j 1.+0.j]]\n",
      "trace:\n",
      "0j\n",
      "dagger:\n",
      "[[0.-0.j 0.-0.j]\n",
      " [1.-0.j 0.-0.j]]\n",
      "From now on sigma_plus stores sigma_minus: \n",
      "[[0.-0.j 0.-0.j]\n",
      " [1.-0.j 0.-0.j]]\n",
      "Reverse by calculating the transposed: \n",
      "[[0.-0.j 1.-0.j]\n",
      " [0.-0.j 0.-0.j]]\n",
      "Kronecker product with identiy of same dimension: \n",
      "[[0.+0.j 0.+0.j 1.+0.j 0.+0.j]\n",
      " [0.+0.j 0.+0.j 0.+0.j 1.+0.j]\n",
      " [0.+0.j 0.+0.j 0.+0.j 0.+0.j]\n",
      " [0.+0.j 0.+0.j 0.+0.j 0.+0.j]]\n",
      "Spectral decomposition: \n",
      "(array([-1.,  1.]), array([[-0.70710678+0.j,  0.70710678+0.j],\n",
      "       [ 0.70710678+0.j,  0.70710678+0.j]]))\n"
     ]
    }
   ],
   "source": [
    "print('Access underlying array by .data: ')\n",
    "print(sigma_x.data)\n",
    "print('Scalar multiplication: ')\n",
    "print((sigma_x * 2).data)\n",
    "print('Matrix mulitplication: ')\n",
    "print((sigma_x * sigma_plus).data)\n",
    "\n",
    "print('trace:')\n",
    "print((sigma_x.tr()))\n",
    "print('dagger:')\n",
    "print((sigma_plus.dag(copy_=False)).data)\n",
    "print('From now on sigma_plus stores sigma_minus: ')\n",
    "print(sigma_plus.data)\n",
    "print('Reverse by calculating the transposed: ')\n",
    "print((sigma_plus.transpose(copy_=False)).data)\n",
    "print('Kronecker product with identiy of same dimension: ')\n",
    "print((sigma_plus.kron(sigma_plus.identity_like())).data)\n",
    "\n",
    "print('Spectral decomposition: ')\n",
    "print(sigma_x.spectral_decomposition(hermitian=True))"
   ],
   "metadata": {
    "collapsed": false,
    "pycharm": {
     "name": "#%%\n"
    }
   }
  },
  {
   "cell_type": "markdown",
   "source": [
    "A frequently used and computationally complex operation is the calculation of\n",
    "the matrix potential, which is used to solve partial differential equations\n",
    "or first order like Schroedingers equation or a master equation in lindblad\n",
    "form.\n",
    "For example an $X_{\\pi/2}$ rotation on the bloch sphere\n",
    "is given by a unitary:\n",
    "\n",
    "\\begin{equation}\n",
    "U = e^{i \\pi \\sigma_x /4}\n",
    "\\end{equation}\n",
    "\n",
    "which can be calculated like:"
   ],
   "metadata": {
    "collapsed": false,
    "pycharm": {
     "name": "#%% md\n"
    }
   }
  },
  {
   "cell_type": "code",
   "execution_count": 14,
   "outputs": [
    {
     "name": "stdout",
     "output_type": "stream",
     "text": [
      "[[7.07106781e-01-2.22044605e-16j 5.55111512e-17+7.07106781e-01j]\n",
      " [5.55111512e-17+7.07106781e-01j 7.07106781e-01+0.00000000e+00j]]\n"
     ]
    }
   ],
   "source": [
    "print(sigma_x.exp(tau=.25j * np.pi, method='spectral').data)"
   ],
   "metadata": {
    "collapsed": false,
    "pycharm": {
     "name": "#%%\n"
    }
   }
  },
  {
   "cell_type": "markdown",
   "source": [
    "Where the method argument specifies by which algorithm the matrix exponential\n",
    "shall be calculated. Here a spectral decomposition was used.\n",
    "\n",
    "The frechet derivative of the matrix exponential is implemented in the format:"
   ],
   "metadata": {
    "collapsed": false,
    "pycharm": {
     "name": "#%% md\n"
    }
   }
  },
  {
   "cell_type": "code",
   "execution_count": 15,
   "outputs": [
    {
     "name": "stdout",
     "output_type": "stream",
     "text": [
      "[[-5.55360367e-01-5.45324224e-17j  3.51028827e-16+5.55360367e-01j]\n",
      " [ 2.15887713e-16+5.55360367e-01j -5.55360367e-01-2.50793980e-16j]]\n"
     ]
    }
   ],
   "source": [
    "print(sigma_x.dexp(tau=.25j * np.pi,\n",
    "                   method='spectral',\n",
    "                   direction=sigma_x).data)"
   ],
   "metadata": {
    "collapsed": false,
    "pycharm": {
     "name": "#%%\n"
    }
   }
  },
  {
   "cell_type": "markdown",
   "source": [
    "When working with leakage states, we can also truncate matrices to a subspace\n",
    "and map to the closest unitary matrix if required:\n"
   ],
   "metadata": {
    "collapsed": false,
    "pycharm": {
     "name": "#%% md\n"
    }
   }
  },
  {
   "cell_type": "code",
   "execution_count": 16,
   "outputs": [
    {
     "name": "stdout",
     "output_type": "stream",
     "text": [
      "clipped to subspace\n",
      "[[-1.+0.j]]\n"
     ]
    }
   ],
   "source": [
    "sigma_z = DenseOperator.pauli_z()\n",
    "print('clipped to subspace')\n",
    "print((sigma_z.truncate_to_subspace([1], map_to_closest_unitary=True)).data)"
   ],
   "metadata": {
    "collapsed": false,
    "pycharm": {
     "name": "#%%\n"
    }
   }
  },
  {
   "cell_type": "markdown",
   "source": [
    "See API documentation for details."
   ],
   "metadata": {
    "collapsed": false,
    "pycharm": {
     "name": "#%% md\n"
    }
   }
  }
 ],
 "metadata": {
  "kernelspec": {
   "display_name": "Python 3",
   "language": "python",
   "name": "python3"
  },
  "language_info": {
   "codemirror_mode": {
    "name": "ipython",
    "version": 2
   },
   "file_extension": ".py",
   "mimetype": "text/x-python",
   "name": "python",
   "nbconvert_exporter": "python",
   "pygments_lexer": "ipython2",
   "version": "2.7.6"
  }
 },
 "nbformat": 4,
 "nbformat_minor": 0
}